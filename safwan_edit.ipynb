{
 "cells": [
  {
   "cell_type": "code",
   "execution_count": 21,
   "metadata": {},
   "outputs": [
    {
     "name": "stdout",
     "output_type": "stream",
     "text": [
      "2020-04-01 06:22:49\n",
      "Processing: AHE_3V_IP_RawData.ip\n"
     ]
    },
    {
     "name": "stderr",
     "output_type": "stream",
     "text": [
      "C:\\Users\\spark\\AppData\\Local\\Continuum\\anaconda3\\lib\\site-packages\\ipykernel_launcher.py:82: RuntimeWarning: divide by zero encountered in true_divide\n"
     ]
    },
    {
     "data": {
      "image/png": "[encoded data removed]",
      "text/plain": [
       "<Figure size 432x288 with 1 Axes>"
      ]
     },
     "metadata": {
      "needs_background": "light"
     },
     "output_type": "display_data"
    }
   ],
   "source": [
    "# -*- coding: utf-8 -*-\n",
    "import os \n",
    "import numpy as np\n",
    "import matplotlib.pyplot as plt\n",
    "import glob\n",
    "from tkinter import filedialog as fd\n",
    "import time\n",
    "import datetime\n",
    "from scipy.signal import find_peaks\n",
    "import math \n",
    "from sklearn.linear_model import LinearRegression\n",
    "\n",
    "###############################################################################\n",
    "########## Code Body ##########################################################\n",
    "###############################################################################\n",
    "    \n",
    "    \n",
    "workingPath = fd.askdirectory()\n",
    "os.chdir(workingPath)\n",
    "\n",
    "if os.path.isfile(\"SynthesisFile.txt\"):\n",
    "    os.remove(\"SynthesisFile.txt\")\n",
    "    \n",
    "for fileName in sorted(glob.glob(\"*.IP\")):\n",
    "    st = datetime.datetime.fromtimestamp(time.time()).strftime('%Y-%m-%d %H:%M:%S')  \n",
    "                 \n",
    "    #Read the CSV that contains all the data\n",
    "    currentFile = open(fileName,'r')\n",
    "    fileLines = currentFile.readlines() \n",
    "    fileNameOut = fileName.rstrip(\".txt\")\n",
    "    currentFile.close()\n",
    "    print(st)\n",
    "    print(\"Processing: \" + fileNameOut)\n",
    "        \n",
    "    Field = np.array([])\n",
    "    hallVolt = np.array([])\n",
    "    gate_voltage = np.array([])\n",
    "    theta_M = np.array([])\n",
    "    sin_theta = np.array([])\n",
    "    cos_theta = np.array([])\n",
    "    channel_voltage = np.array([])\n",
    "    voltage_Counter = 1\n",
    "    fit = np.array([])\n",
    "    v_hall = np.array([])\n",
    "\n",
    "    for lineIndex in range(len(fileLines)):\n",
    "        currentLine = fileLines[lineIndex]\n",
    "        dataSegment = currentLine.split()\n",
    "        Field = np.append(Field, float(dataSegment[9])) #This is milli Tesla\n",
    "        hallVolt = np.append(hallVolt, float(dataSegment[5])) #This is milli Volt\n",
    "        channel_voltage = np.append(channel_voltage, float(dataSegment[2])) #This is Volt\n",
    "        VG = float(dataSegment[6]) - float(dataSegment[2])/2\n",
    "        gate_voltage = np.append(gate_voltage, np.round(VG, 2)) #This is Volt\n",
    "        if lineIndex > 1 and VG != gate_voltage[lineIndex-1]:\n",
    "            voltage_Counter = voltage_Counter + 1\n",
    "\n",
    "    #for i in range(len(gate_voltage)) ##this line is written by my mentor\n",
    "        #newcoloum = \n",
    "\n",
    "    #for i in range(len(gate_voltage)):\n",
    "        #for iteration in range(voltage_Counter):\n",
    "     #   VGate = \n",
    "\n",
    "    HV = hallVolt-((max(hallVolt))+min(hallVolt))/2\n",
    "    # Split up field array as well ()  ##this line is written by my mentor\n",
    "    HVN = HV/((max(HV)-min(HV))/2)\n",
    "    \n",
    "\n",
    "    for index in range(len(HVN)):\n",
    "        if HVN[index] < 0:\n",
    "            theta_M = np.append(theta_M, math.acos(HVN[index])-np.pi)\n",
    "        else:\n",
    "            theta_M = np.append(theta_M, math.acos(HVN[index]))\n",
    "\n",
    "    for angle in range(len(theta_M)):\n",
    "        sin_theta = np.append(sin_theta, math.sin(theta_M[angle]))\n",
    "        cos_theta = np.append(cos_theta, math.cos(theta_M[angle]))\n",
    "\n",
    "    #From here on issues in code\n",
    "\n",
    "    x = sin_theta ** 2\n",
    "    RHS = abs(Field * ((math.cos(86*np.pi/180)/cos_theta) - (math.sin(86*np.pi/180)/sin_theta)))\n",
    "    array = np.column_stack([x, RHS, gate_voltage])\n",
    "    \n",
    "    xFit = np.array([])\n",
    "    RHSFit = np.array([])\n",
    "    x_new = []\n",
    "    RHS_new = []\n",
    "    \n",
    "    for a,b,c in array:\n",
    "        if c == 3: # change specific gate_voltage value\n",
    "            x_new.append(a)\n",
    "            RHS_new.append(b)\n",
    "    x_new = np.array(x_new)\n",
    "    RHS_new = np.array(RHS_new)\n",
    "    for index in range(len(x_new)):\n",
    "        if x_new[index] > 0.2 and x_new[index] < 0.7:\n",
    "            xFit = np.append(xFit, x_new[index])\n",
    "            RHSFit = np.append(RHSFit, RHS_new[index])\n",
    "    \n",
    "    model = LinearRegression().fit(xFit.reshape(-1,1), RHSFit)\n",
    "    regression_line = xFit*model.coef_ + model.intercept_\n",
    "\n",
    "    m = (((np.mean(xFit) * np.mean(RHSFit)) - np.mean(xFit*RHSFit)) / (np.mean(xFit)**2 -np.mean(xFit*RHSFit)))\n",
    "    b = np.mean(RHSFit) - m*np.mean(xFit)\n",
    "    regression_line = xFit*m + b\n",
    "\n",
    "#     plt.figure(1)\n",
    "#     plt.plot(Field, HV)\n",
    "#     # plt.plot(Field, HV, label= \"VG = \" + str(VGate))\n",
    "#     figureName = '01. hall voltage.png'\n",
    "#     plt.title(\"hall voltage vs. Field\")\n",
    "#     plt.legend()\n",
    "#     plt.xlabel(\"Field [mT]\")\n",
    "#     plt.ylabel(\"HallVolt [mV]\")\n",
    "#     plt.savefig(os.path.join(workingPath, figureName), dpi = 200, format = 'png')\n",
    "#     plt.show()\n",
    "#     plt.close(1)\n",
    "\n",
    "#     plt.figure(2)   \n",
    "#     plt.plot(Field, HVN)\n",
    "#     figureName = '02. nomralized hall voltage.png'\n",
    "#     plt.title(\"Normalized hall voltage vs. Field\")\n",
    "#     plt.xlabel(\"Field [mT]\")\n",
    "#     plt.ylabel(\"HallVolt [mV]\")\n",
    "#     plt.savefig(os.path.join(workingPath, figureName), dpi = 200, format = 'png')\n",
    "#     plt.show()\n",
    "#     plt.close(2)\n",
    "\n",
    "#     plt.figure(3)\n",
    "#     plt.plot(Field, theta_M)\n",
    "#     figureName = '03. IP magnetization curve.png'\n",
    "#     plt.title(\"In-plane curve\")\n",
    "#     plt.xlabel(\"Field [mT]\")\n",
    "#     plt.ylabel(\"theta_M [°]\")\n",
    "#     plt.savefig(os.path.join(workingPath, figureName), dpi = 200, format = 'png')\n",
    "#     plt.show()\n",
    "#     plt.close(3)\n",
    "\n",
    "    plt.figure(4)\n",
    "    plt.scatter(xFit, RHSFit, c = 'green')\n",
    "    plt.plot(xFit, regression_line, c = 'r')\n",
    "    figureName = '04. RHS vs LHS.png'\n",
    "    plt.title(\"||µ0_H|| (cos\\u03B8_H/cos\\u03B8_M - sin\\u03B8_H/sin\\u03B8_M vs. sin²\\u03B8M\")\n",
    "    plt.xlabel(\"sin²\\u03B8M [arb. unit]\")\n",
    "    plt.ylabel(\"||\\u03BC H|| (cos\\u03B8_H/cos\\u03B8_M - sin\\u03B8_H/sin\\u03B8_M [mT]\")\n",
    "    plt.savefig(os.path.join(workingPath, figureName), dpi = 200, format = 'png')\n",
    "    plt.show()\n",
    "    plt.close(4)\n",
    "\n",
    "\n",
    "#     dataFile = fileNameOut + \"-Raw.txt\"\n",
    "#     with open(os.path.join(workingPath, dataFile),'w') as temp_file:\n",
    "#         temp_file.write('Field [mT]' + '\\t' + 'Hall Voltage [mV]' +'\\t' + 'Gate Voltage [V]' + '\\n')\n",
    "#         for index in range(len(gate_voltage)):\n",
    "#             temp_file.write(str(Field[index]) + '\\t' + str(HV[index]) +  '\\t' + str(gate_voltage[index]) + '\\n')\n",
    "    \n",
    "#     with open(\"SynthesisFile.txt\",'a') as temp_file:\n",
    "#         temp_file.write(\"-------------------------------------------------------\\n\")\n",
    "#         temp_file.write(st + \"\\n\")\n",
    "#         temp_file.write('Data from measurement: ' + fileNameOut + '\\n')\n",
    "#         temp_file.write(\"-------------------------------------------------------\\n\")"
   ]
  },
  {
   "cell_type": "code",
   "execution_count": 13,
   "metadata": {},
   "outputs": [
    {
     "data": {
      "text/plain": [
       "array([-3. , -1.5, -0. ,  1.5,  3. ])"
      ]
     },
     "execution_count": 13,
     "metadata": {},
     "output_type": "execute_result"
    }
   ],
   "source": [
    "np.unique(gate_voltage)"
   ]
  },
  {
   "cell_type": "code",
   "execution_count": 15,
   "metadata": {},
   "outputs": [
    {
     "name": "stdout",
     "output_type": "stream",
     "text": [
      "-3.0\n",
      "-1.5\n",
      "-0.0\n",
      "1.5\n",
      "3.0\n"
     ]
    }
   ],
   "source": [
    "dup = np.unique(gate_voltage)\n",
    "for i in dup:\n",
    "    print(i)"
   ]
  },
  {
   "cell_type": "code",
   "execution_count": null,
   "metadata": {},
   "outputs": [],
   "source": [
    "RHSFit.shape"
   ]
  },
  {
   "cell_type": "code",
   "execution_count": 12,
   "metadata": {},
   "outputs": [
    {
     "data": {
      "text/plain": [
       "array([403.03929676, 403.03910234, 403.03885655, 403.03867926,\n",
       "       403.03831148, 403.03816465, 403.03789402, 403.03767705,\n",
       "       403.03740246, 403.03703948, 403.03690013, 403.03660784,\n",
       "       403.03626155, 403.03589943, 403.0357714 , 403.035516  ,\n",
       "       403.03516693, 403.03492219, 403.03461751, 403.03438001,\n",
       "       403.03398805, 403.03372921, 403.03346307, 403.03311307,\n",
       "       403.03295301, 403.03264593, 403.03238606, 403.03221699,\n",
       "       403.03193241, 403.03149674, 403.03124099, 403.03107968,\n",
       "       403.0307724 , 403.03060712, 403.03026573, 403.03000808,\n",
       "       403.02969568, 403.02948721, 403.02923807, 403.02899628,\n",
       "       403.02917686, 403.02949064, 403.02973756, 403.02998202,\n",
       "       403.0301351 , 403.030559  , 403.03076697, 403.0309485 ,\n",
       "       403.03114809, 403.03145998, 403.03181781, 403.03204406,\n",
       "       403.03222692, 403.03269728, 403.03276986, 403.03321502,\n",
       "       403.03342029, 403.0336118 , 403.03405936, 403.03415515,\n",
       "       403.03450693, 403.03486881, 403.03494612, 403.03532849,\n",
       "       403.03551267, 403.03586716, 403.03598751, 403.03634452,\n",
       "       403.03662067, 403.03690563, 403.0370945 , 403.03745712,\n",
       "       403.03760317, 403.03794466, 403.03819952, 403.03835251,\n",
       "       403.03863234, 403.03894924, 403.03914667, 403.03931248,\n",
       "       403.0391351 , 403.03899439, 403.03866546, 403.03833623,\n",
       "       403.03814201, 403.03791593, 403.03766289, 403.03746176,\n",
       "       403.03716434, 403.03687564, 403.03667758, 403.03638313,\n",
       "       403.03625029, 403.03587844, 403.03552438, 403.03538915,\n",
       "       403.03500235, 403.03483318, 403.03438218, 403.03402434,\n",
       "       403.03383809, 403.0335862 , 403.0333642 , 403.03314595,\n",
       "       403.03279577, 403.03265924, 403.03238325, 403.03205919,\n",
       "       403.03173306, 403.0314565 , 403.03127679, 403.03100822,\n",
       "       403.03064066, 403.0303507 , 403.03008146, 403.02972117,\n",
       "       403.02961406, 403.02929173, 403.02902491, 403.02889662,\n",
       "       403.02940276, 403.02953533, 403.02981408, 403.03003723,\n",
       "       403.03028103, 403.03055981, 403.03081585, 403.03099463,\n",
       "       403.03138885, 403.03155455, 403.03184832, 403.03218687,\n",
       "       403.03262012, 403.03280566, 403.03321798, 403.03328783,\n",
       "       403.03370647, 403.03388623, 403.03413037, 403.03437098,\n",
       "       403.03468659, 403.03499562, 403.03525642, 403.03553629,\n",
       "       403.0357772 , 403.03590077, 403.03637168, 403.03657589,\n",
       "       403.03686974, 403.03712818, 403.03729579, 403.0375776 ,\n",
       "       403.03792436, 403.03816756, 403.03839732, 403.03868487,\n",
       "       403.03887167, 403.03914681])"
      ]
     },
     "execution_count": 12,
     "metadata": {},
     "output_type": "execute_result"
    }
   ],
   "source": [
    "regression_line"
   ]
  },
  {
   "cell_type": "code",
   "execution_count": 10,
   "metadata": {},
   "outputs": [
    {
     "data": {
      "text/plain": [
       "array([388.80887431, 388.80877901, 388.80843458, 388.80820028,\n",
       "       388.80793353, 388.80771145, 388.80741965, 388.80708564,\n",
       "       388.80679802, 388.8065403 , 388.80627963, 388.80598616,\n",
       "       388.80568645, 388.80555756, 388.80519992, 388.80492122,\n",
       "       388.80448438, 388.80430695, 388.80399286, 388.80368298,\n",
       "       388.80341887, 388.80308647, 388.80292514, 388.80240592,\n",
       "       388.80232047, 388.80191482, 388.801631  , 388.80136358,\n",
       "       388.80107973, 388.80096033, 388.80057926, 388.80023851,\n",
       "       388.80001199, 388.79964288, 388.79939618, 388.7991519 ,\n",
       "       388.79891276, 388.79860578, 388.79834963, 388.79843104,\n",
       "       388.79862346, 388.79884252, 388.79909753, 388.79937382,\n",
       "       388.79972566, 388.80001962, 388.8001367 , 388.80050021,\n",
       "       388.80073655, 388.80100966, 388.80132436, 388.80166402,\n",
       "       388.80190011, 388.80215894, 388.80247824, 388.80278218,\n",
       "       388.80296618, 388.80331991, 388.803557  , 388.80391041,\n",
       "       388.80413822, 388.80448654, 388.80467333, 388.80499516,\n",
       "       388.80534233, 388.805583  , 388.80596243, 388.8062411 ,\n",
       "       388.80649228, 388.80673489, 388.80701798, 388.80720859,\n",
       "       388.80744315, 388.80769778, 388.8080395 , 388.80836925,\n",
       "       388.80859533, 388.80870364, 388.80885898, 388.80848859,\n",
       "       388.80826572, 388.80806377, 388.80772659, 388.8074201 ,\n",
       "       388.80723359, 388.80694791, 388.80669053, 388.80643293,\n",
       "       388.80612075, 388.80585466, 388.80545049, 388.80534551,\n",
       "       388.8048985 , 388.80466793, 388.80442132, 388.80408909,\n",
       "       388.80383032, 388.8036073 , 388.80314382, 388.80304747,\n",
       "       388.80257062, 388.80237828, 388.80216468, 388.80173782,\n",
       "       388.80154201, 388.80128289, 388.80102653, 388.80062319,\n",
       "       388.80042177, 388.80012803, 388.79984982, 388.79951482,\n",
       "       388.79923685, 388.7989934 , 388.79878411, 388.79842071,\n",
       "       388.79830998, 388.79845555, 388.79869418, 388.7989579 ,\n",
       "       388.7992763 , 388.79968215, 388.79981496, 388.8001462 ,\n",
       "       388.80041063, 388.80078784, 388.80101507, 388.80138883,\n",
       "       388.80164857, 388.80176322, 388.80217612, 388.80239687,\n",
       "       388.80260755, 388.80292819, 388.80315608, 388.80349322,\n",
       "       388.80385587, 388.80408206, 388.80430481, 388.80469067,\n",
       "       388.80497778, 388.80523561, 388.80548727, 388.80580961,\n",
       "       388.8060748 , 388.80645477, 388.80655545, 388.80693244,\n",
       "       388.80725034, 388.80750907, 388.80771503, 388.80790452,\n",
       "       388.80824634, 388.80846593, 388.80873396, 388.80891086])"
      ]
     },
     "execution_count": 10,
     "metadata": {},
     "output_type": "execute_result"
    }
   ],
   "source": [
    "regression_line"
   ]
  },
  {
   "cell_type": "code",
   "execution_count": null,
   "metadata": {},
   "outputs": [],
   "source": [
    "gate_voltage.shape"
   ]
  },
  {
   "cell_type": "code",
   "execution_count": null,
   "metadata": {},
   "outputs": [],
   "source": [
    "x_new.shape"
   ]
  },
  {
   "cell_type": "code",
   "execution_count": null,
   "metadata": {},
   "outputs": [],
   "source": []
  }
 ],
 "metadata": {
  "kernelspec": {
   "display_name": "Python 3",
   "language": "python",
   "name": "python3"
  },
  "language_info": {
   "codemirror_mode": {
    "name": "ipython",
    "version": 3
   },
   "file_extension": ".py",
   "mimetype": "text/x-python",
   "name": "python",
   "nbconvert_exporter": "python",
   "pygments_lexer": "ipython3",
   "version": "3.7.4"
  }
 },
 "nbformat": 4,
 "nbformat_minor": 2
}

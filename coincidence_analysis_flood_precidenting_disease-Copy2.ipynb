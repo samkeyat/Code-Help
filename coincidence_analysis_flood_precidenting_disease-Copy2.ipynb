{
 "cells": [
  {
   "cell_type": "code",
   "execution_count": 43,
   "metadata": {},
   "outputs": [],
   "source": [
    "def convert_to_datstring(dataframe_,columnName_='Date',format_= \"%d/%m/%Y\",ref_day_ ='01'):\n",
    "    ''' during emdat_csv_formated_edited.csv file reading the 'Date'\n",
    "    column has some random zero days and months values'''\n",
    "    for i,dat in enumerate(dataframe_.loc[:,columnName_]):\n",
    "        try:\n",
    "            dat = dat.strip()  #strip removes spaces from both left and right of an argument\n",
    "            dataframe_.loc[i,'NewDate']=datetime.strptime(dat,format_)\n",
    "        except:\n",
    "            dat = dat.strip().split(r'/')\n",
    "            dat[0]=ref_day_ \n",
    "            dat[1]=ref_day_\n",
    "            dat=\"/\".join(dat)\n",
    "            dataframe_.loc[i,'NewDate']=datetime.strptime(dat,format_)\n",
    "    return dataframe_"
   ]
  },
  {
   "cell_type": "code",
   "execution_count": 60,
   "metadata": {},
   "outputs": [
    {
     "data": {
      "text/plain": [
       "'2009'"
      ]
     },
     "execution_count": 60,
     "metadata": {},
     "output_type": "execute_result"
    }
   ],
   "source": [
    "s = '1/2/2009 '\n",
    "a=s.strip().split('/')\n",
    "k=\"-\".join(a)\n",
    "k[4:9]"
   ]
  },
  {
   "cell_type": "code",
   "execution_count": 45,
   "metadata": {},
   "outputs": [
    {
     "data": {
      "text/plain": [
       "'1-2-2009'"
      ]
     },
     "execution_count": 45,
     "metadata": {},
     "output_type": "execute_result"
    }
   ],
   "source": [
    "s ='1/2/2009 '\n",
    "l = s.strip().replace('/','-')\n",
    "l"
   ]
  },
  {
   "cell_type": "code",
   "execution_count": 46,
   "metadata": {},
   "outputs": [],
   "source": [
    "import pandas as pd\n",
    "from datetime import date, datetime, timedelta\n",
    "import numpy as np\n",
    "emdat_ep=pd.read_csv('emdat_csv_formated_edited.csv')"
   ]
  },
  {
   "cell_type": "code",
   "execution_count": 47,
   "metadata": {},
   "outputs": [],
   "source": [
    "emdat_ep_flood = emdat_ep[emdat_ep.Type.isin(['Drought'])]\n",
    "emdat_ep_cholera = emdat_ep[emdat_ep.Name.isin(['nf'])]\n",
    "\n",
    "disease_country = emdat_ep_cholera[(emdat_ep_cholera.Country == 'Australia')]\n",
    "disease_flood = emdat_ep_flood[(emdat_ep_flood.Country == 'Afghanistan')]"
   ]
  },
  {
   "cell_type": "code",
   "execution_count": 48,
   "metadata": {},
   "outputs": [
    {
     "data": {
      "text/html": [
       "<div>\n",
       "<style scoped>\n",
       "    .dataframe tbody tr th:only-of-type {\n",
       "        vertical-align: middle;\n",
       "    }\n",
       "\n",
       "    .dataframe tbody tr th {\n",
       "        vertical-align: top;\n",
       "    }\n",
       "\n",
       "    .dataframe thead th {\n",
       "        text-align: right;\n",
       "    }\n",
       "</style>\n",
       "<table border=\"1\" class=\"dataframe\">\n",
       "  <thead>\n",
       "    <tr style=\"text-align: right;\">\n",
       "      <th></th>\n",
       "      <th>Unnamed: 0</th>\n",
       "      <th>Date</th>\n",
       "      <th>Country</th>\n",
       "      <th>Type</th>\n",
       "      <th>Sub Type</th>\n",
       "      <th>Name</th>\n",
       "      <th>Year</th>\n",
       "      <th>Tot. Affected</th>\n",
       "      <th>NewDate</th>\n",
       "    </tr>\n",
       "  </thead>\n",
       "  <tbody>\n",
       "    <tr>\n",
       "      <td>0</td>\n",
       "      <td>0</td>\n",
       "      <td>00/00/2008</td>\n",
       "      <td>Afghanistan</td>\n",
       "      <td>Drought</td>\n",
       "      <td>Drought</td>\n",
       "      <td>NaN</td>\n",
       "      <td>2008.0</td>\n",
       "      <td>280000.0</td>\n",
       "      <td>2008-01-01</td>\n",
       "    </tr>\n",
       "    <tr>\n",
       "      <td>1</td>\n",
       "      <td>1</td>\n",
       "      <td>00/00/2006</td>\n",
       "      <td>Afghanistan</td>\n",
       "      <td>Drought</td>\n",
       "      <td>Drought</td>\n",
       "      <td>NaN</td>\n",
       "      <td>2006.0</td>\n",
       "      <td>1900000.0</td>\n",
       "      <td>2006-01-01</td>\n",
       "    </tr>\n",
       "    <tr>\n",
       "      <td>2</td>\n",
       "      <td>2</td>\n",
       "      <td>00/08/2002</td>\n",
       "      <td>Afghanistan</td>\n",
       "      <td>Drought</td>\n",
       "      <td>Drought</td>\n",
       "      <td>NaN</td>\n",
       "      <td>2000.0</td>\n",
       "      <td>2580000.0</td>\n",
       "      <td>2002-01-01</td>\n",
       "    </tr>\n",
       "    <tr>\n",
       "      <td>3</td>\n",
       "      <td>3</td>\n",
       "      <td>00/07/1973</td>\n",
       "      <td>Afghanistan</td>\n",
       "      <td>Drought</td>\n",
       "      <td>Drought</td>\n",
       "      <td>NaN</td>\n",
       "      <td>1971.0</td>\n",
       "      <td>NaN</td>\n",
       "      <td>1973-01-01</td>\n",
       "    </tr>\n",
       "    <tr>\n",
       "      <td>4</td>\n",
       "      <td>4</td>\n",
       "      <td>00/05/1969</td>\n",
       "      <td>Afghanistan</td>\n",
       "      <td>Drought</td>\n",
       "      <td>Drought</td>\n",
       "      <td>NaN</td>\n",
       "      <td>1969.0</td>\n",
       "      <td>48000.0</td>\n",
       "      <td>1969-01-01</td>\n",
       "    </tr>\n",
       "  </tbody>\n",
       "</table>\n",
       "</div>"
      ],
      "text/plain": [
       "  Unnamed: 0        Date      Country     Type  Sub Type Name    Year  \\\n",
       "0          0  00/00/2008  Afghanistan  Drought  Drought   NaN  2008.0   \n",
       "1          1  00/00/2006  Afghanistan  Drought  Drought   NaN  2006.0   \n",
       "2          2  00/08/2002  Afghanistan  Drought  Drought   NaN  2000.0   \n",
       "3          3  00/07/1973  Afghanistan  Drought  Drought   NaN  1971.0   \n",
       "4          4  00/05/1969  Afghanistan  Drought  Drought   NaN  1969.0   \n",
       "\n",
       "   Tot. Affected    NewDate  \n",
       "0       280000.0 2008-01-01  \n",
       "1      1900000.0 2006-01-01  \n",
       "2      2580000.0 2002-01-01  \n",
       "3            NaN 1973-01-01  \n",
       "4        48000.0 1969-01-01  "
      ]
     },
     "execution_count": 48,
     "metadata": {},
     "output_type": "execute_result"
    }
   ],
   "source": [
    "convert_to_datstring(dataframe_= disease_flood)"
   ]
  },
  {
   "cell_type": "code",
   "execution_count": 42,
   "metadata": {},
   "outputs": [
    {
     "ename": "SyntaxError",
     "evalue": "from __future__ imports must occur at the beginning of the file (<ipython-input-42-ad56342d8d57>, line 7)",
     "output_type": "error",
     "traceback": [
      "\u001b[1;36m  File \u001b[1;32m\"<ipython-input-42-ad56342d8d57>\"\u001b[1;36m, line \u001b[1;32m7\u001b[0m\n\u001b[1;33m    \u001b[0m\n\u001b[1;37m    ^\u001b[0m\n\u001b[1;31mSyntaxError\u001b[0m\u001b[1;31m:\u001b[0m from __future__ imports must occur at the beginning of the file\n"
     ]
    }
   ],
   "source": [
    "import pandas as pd\n",
    "from datetime import date, datetime, timedelta\n",
    "import numpy as np\n",
    "from __future__ import division\n",
    "emdat_ep=pd.read_csv('emdat_csv_formated_edited.csv')\n",
    "#con = (emdat_ep['Country'].tolist())\n",
    "\n",
    "emdat_ep_flood = emdat_ep[emdat_ep.Type.isin(['Flood'])]\n",
    "emdat_ep_cholera = emdat_ep[emdat_ep.Name.isin(['nf'])]\n",
    "\n",
    "disease_country = emdat_ep_cholera[(emdat_ep_cholera.Country == 'Afghanistan')]\n",
    "disease_flood = emdat_ep_flood[(emdat_ep_flood.Country == 'Afghanistan')]\n",
    "for j in emdat_ep_cholera.Country:\n",
    "#    disease_country=j.reset_index(drop=True)\n",
    "    disease_country_dat = convert_to_datstring(dataframe_= disease_country)\n",
    "    for k in emdat_ep_flood.Country:\n",
    "#        disease_flood=k.reset_index(drop=True)\n",
    "        disease_flood_dat = convert_to_datstring(dataframe_= disease_flood)\n",
    "            \n",
    "            ################################################\n",
    "            #print disease_country_dat\n",
    "        df = pd.concat([disease_flood_dat, disease_country_dat], axis=1)\n",
    "        df = df.drop(['Date','Type','Sub Type','Year','Name','Unnamed: 0','Unnamed: 0'], axis=1)\n",
    "        df.columns = ['country_flood','flood_date','country_cholera','cholera_date']\n",
    "        week = timedelta(days = 15)\n",
    "        timespan=np.arange(0,28)\n",
    "        res_vec=np.zeros((timespan.shape[0],3))\n",
    "        for n in timespan:\n",
    "            borders= pd.concat([df.flood_date + n*week, df.flood_date + (n+1)*week], axis=1)\n",
    "            borders.columns=['left_border','right_border']\n",
    "            counts = 0\n",
    "            total_occ_cholera=0\n",
    "            for i, dis in enumerate(df.cholera_date):\n",
    "                #cholera_date is sorted such that null values are at the end\n",
    "                if pd.isnull(dis):\n",
    "                    break\n",
    "                else:\n",
    "                        total_occ_cholera +=1\n",
    "                for flood in df.flood_date:\n",
    "                    right_b, left_b = borders.right_border[i],borders.left_border[i]\n",
    "                    if flood < right_b and flood >= left_b:\n",
    "                        #   print \"yes\", dis, left_b, right_b\n",
    "                        counts += 1\n",
    "                        break\n",
    "                res_vec[n,0] = counts\n",
    "                res_vec[n,1] = total_occ_cholera\n",
    "                res_vec[n,2] = counts/total_occ_cholera\n",
    "    \n",
    "    #  print res_vec\n",
    "      #  print res_vec.shape\n",
    "\n",
    "df_res = pd.DataFrame(res_vec)\n",
    "df_res = df_res.T\n",
    "df_res.to_csv('f.csv')"
   ]
  },
  {
   "cell_type": "code",
   "execution_count": null,
   "metadata": {},
   "outputs": [],
   "source": []
  },
  {
   "cell_type": "code",
   "execution_count": null,
   "metadata": {},
   "outputs": [],
   "source": []
  }
 ],
 "metadata": {
  "kernelspec": {
   "display_name": "Python 3",
   "language": "python",
   "name": "python3"
  },
  "language_info": {
   "codemirror_mode": {
    "name": "ipython",
    "version": 3
   },
   "file_extension": ".py",
   "mimetype": "text/x-python",
   "name": "python",
   "nbconvert_exporter": "python",
   "pygments_lexer": "ipython3",
   "version": "3.7.4"
  }
 },
 "nbformat": 4,
 "nbformat_minor": 1
}

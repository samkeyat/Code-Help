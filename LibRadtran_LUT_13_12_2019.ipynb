{
 "cells": [
  {
   "cell_type": "code",
   "execution_count": 3,
   "metadata": {},
   "outputs": [
    {
     "data": {
      "text/plain": [
       "1"
      ]
     },
     "execution_count": 3,
     "metadata": {},
     "output_type": "execute_result"
    }
   ],
   "source": [
    "#!/usr/bin/env python\n",
    "# coding: utf-8\n",
    "\n",
    "#Note: write a loop taking constant 'Z' and 'LWC' and run over ranges of effective radius\n",
    "# make a complete simulation one effective radius value at a time and append it to an output file.\n",
    "\n",
    "import csv\n",
    "import numpy as np\n",
    "import os\n",
    "#import commands\n",
    "######### creating water cloud microphysical properties file i.e altitude, LWC and R_eff \n",
    "x1 = np.linspace(3,0.5,num=10).round(decimals=2)\n",
    "x2 = np.linspace(0,1,num=10).round(decimals=2)\n",
    "x3 = np.linspace(4,15,num=10).round(decimals=2)\n",
    "\n",
    "with open(\"wc_mp.dat\", \"w+\") as file:\n",
    "    csv_writer = csv.writer(file, delimiter=\" \")\n",
    "    for i in range(0, len(x1)):\n",
    "        csv_writer.writerow([str(x1[i]),str(x2[i]),str(x3[i])])\n",
    "        \n",
    "######### defining required string #########\n",
    "f = open(\"UVSPEC_REPTRAN_THERMAL.INP\",\"w+\") \n",
    "f.write(\"data_files_path /opt/libradtran/2.0.2/share/libRadtran/data\\r\\n\")\n",
    "f.write(\"atmosphere_file /home/sshohan/libRadtran/AFGLUS.70KM\\r\\n\")\n",
    "f.write(\"rte_solver disort\\r\\n\")\n",
    "f.write(\"pseudospherical\\r\\n\")\n",
    "f.write(\"mol_abs_param reptran fine\\r\\n\")\n",
    "f.write(\"output_quantity brightness\\r\\n\")\n",
    "f.write(\"radiosonde /home/sshohan/libRadtran/20190517_Radiosonde.txt H2O RH\\r\\n\")\n",
    "f.write(\"source thermal\\r\\n\")\n",
    "f.write(\"wavelength 7700 12000\\r\\n\")\n",
    "f.write(\"zout 10.0\\r\\n\")\n",
    "f.write(\"wc_properties mie interpolate\\r\\n\")\n",
    "f.write(\"wc_file 1D  /home/sshohan/libRadtran_LUT/wc_mp.dat\\r\\n\")\n",
    "f.write(\"umu 1.0\\r\\n\")\n",
    "f.write(\"output_process integrate\\r\\n\")\n",
    "f.write(\"output_user lambda uu\\r\\n\")\n",
    "f.close()\n",
    "#cmd = '(uvspec <UVSPEC_REPTRAN_THERMAL.INP> TEST_REPTRAN_THERMAL.out) >& verbose.txt'\n",
    "myCmd = os.popen('uvspec <UVSPEC_REPTRAN_THERMAL.INP> TEST_REPTRAN_THERMAL.out').read()\n",
    "print(myCmd)\n"
   ]
  },
  {
   "cell_type": "code",
   "execution_count": 3,
   "metadata": {},
   "outputs": [
    {
     "name": "stdout",
     "output_type": "stream",
     "text": [
      "<generator object <genexpr> at 0x000001F5622AF748>\n"
     ]
    }
   ],
   "source": [
    "# This algorithm creates Look Up Table (LUT) by simulating different microphysical variables. \n",
    "# All you need to do is to create a range of microphysical variable (i.e. effective radius) of interest over a constant microphysical variable (i.e. LWC)\n",
    "# This algorithm will automatically create new output directory and store data according to the ranges of microphysical variable as you change the constant microphysical variable\n",
    "# The line needs to be changed per simulation are remarked by a comment on the right side\n",
    "import csv\n",
    "import numpy as np\n",
    "import os\n",
    "import shutil\n",
    "def Wcloud(variables):\n",
    "    inp = open(\"UVSPEC_REPTRAN_THERMAL.INP\",\"w+\") \n",
    "    inp.write(\"data_files_path /opt/libradtran/2.0.2/share/libRadtran/data\\r\\n\")\n",
    "    inp.write(\"atmosphere_file /home/sshohan/libRadtran/AFGLUS.70KM\\r\\n\")\n",
    "    inp.write(\"rte_solver disort\\r\\n\")\n",
    "    inp.write(\"pseudospherical\\r\\n\")\n",
    "    inp.write(\"mol_abs_param reptran fine\\r\\n\")\n",
    "    inp.write(\"output_quantity brightness\\r\\n\")\n",
    "    inp.write(\"radiosonde /home/sshohan/libRadtran/20190517_Radiosonde.txt H2O RH\\r\\n\")\n",
    "    inp.write(\"source thermal\\r\\n\")\n",
    "    inp.write(\"wavelength 7700 12000\\r\\n\")\n",
    "    inp.write(\"zout 10.0\\r\\n\")\n",
    "    inp.write(\"wc_properties mie interpolate\\r\\n\")\n",
    "    inp.write(\"wc_file 1D  /home/sshohan/libRadtran_LUT/wc_mp.dat\\r\\n\")\n",
    "    inp.write(\"umu 1.0\\r\\n\")\n",
    "    inp.write(\"output_process integrate\\r\\n\")\n",
    "    inp.write(\"output_user lambda uu\\r\\n\")\n",
    "    inp.close()\n",
    "    for i in variables:\n",
    "        with open(\"wc_mp.dat\",\"w+\") as file:\n",
    "            csv_writer = csv.writer(file, delimiter=\" \")\n",
    "            csv_writer.writerow(['#alt','LWC','r_eff'])\n",
    "            csv_writer.writerow([3,0,0])\n",
    "            csv_writer.writerow([2,1,i]) # change the microphysical variable that is constant during each simulation (i.e. LWC)\n",
    "        os.popen('uvspec <UVSPEC_REPTRAN_THERMAL.INP> TEST_REPTRAN_THERMAL.out').read()\n",
    "        try:\n",
    "            dirName = 'output_LWC1'  # change dirName according to the name of microphysical variable that is constant during each simulation\n",
    "            os.mkdir(dirName)\n",
    "        except:\n",
    "            OSError\n",
    "        dst_path = '/home/sshohan/libRadtran_LUT/output_LWC1/outfile_'+str(i)+'.txt' # change to similar dirName\n",
    "        origin_path = './TEST_REPTRAN_THERMAL.out'\n",
    "        not os.path.exists(dst_path) or os.makedirs(dst_path)\n",
    "        shutil.copy(origin_path, dst_path)\n",
    "r_eff = np.linspace(4,15,num=10).round(decimals=2)\n",
    "Wcloud(r_eff)"
   ]
  },
  {
   "cell_type": "code",
   "execution_count": 15,
   "metadata": {},
   "outputs": [],
   "source": [
    "# This algorithm creates Look Up Table (LUT) by simulating different microphysical variables. \n",
    "# All you need to do is to create a range of microphysical variable (i.e. effective radius) of interest over --\n",
    "# a constant microphysical variable (i.e. LWC,r_eff)\n",
    "# This algorithm will automatically create new output directory and store data according to --\n",
    "# the ranges of microphysical variable as you change the constant microphysical variable\n",
    "# The line needs to be changed per simulation are remarked by a comment on the right side\n",
    "\n",
    "#-----------------code start----------------#\n",
    "\n",
    "import csv\n",
    "import numpy as np\n",
    "import os\n",
    "import shutil\n",
    "def Wcloud(variables_const,variables_iter,CTH,CBH):\n",
    "    inp = open(\"UVSPEC_REPTRAN_THERMAL.INP\",\"w+\") \n",
    "    inp.write(\"data_files_path /opt/libradtran/2.0.2/share/libRadtran/data\\r\\n\")\n",
    "    inp.write(\"atmosphere_file /home/sshohan/libRadtran/AFGLUS.70KM\\r\\n\")\n",
    "    inp.write(\"rte_solver disort\\r\\n\")\n",
    "    inp.write(\"pseudospherical\\r\\n\")\n",
    "    inp.write(\"mol_abs_param reptran fine\\r\\n\")\n",
    "    inp.write(\"output_quantity brightness\\r\\n\")\n",
    "    inp.write(\"radiosonde /home/sshohan/libRadtran/20190517_Radiosonde.txt H2O RH\\r\\n\")\n",
    "    inp.write(\"source thermal\\r\\n\")\n",
    "    inp.write(\"wavelength 7700 12000\\r\\n\")\n",
    "    inp.write(\"zout 10.0\\r\\n\")\n",
    "    inp.write(\"filter_function_file /home/sshohan/libRadtran/Filter_function.txt normalize\\r\\n\")\n",
    "    inp.write(\"wc_properties mie interpolate\\r\\n\")\n",
    "    inp.write(\"wc_file 1D  /home/sshohan/libRadtran_LUT/wc_mp.dat\\r\\n\")\n",
    "    inp.write(\"umu 1.0\\r\\n\")\n",
    "    inp.write(\"output_process integrate\\r\\n\")\n",
    "    inp.write(\"output_user lambda uu\\r\\n\")\n",
    "    inp.close()\n",
    "    for i in variables_const:    \n",
    "        for j in variables_iter:\n",
    "            with open(\"wc_mp.dat\",\"w+\") as file:\n",
    "                csv_writer = csv.writer(file, delimiter=\" \")\n",
    "                csv_writer.writerow(['#alt(km)','LWC(g/m3)','r_eff(um)'])\n",
    "                csv_writer.writerow([CTH,0,0])\n",
    "                csv_writer.writerow([CBH,j,i]) ###ONLY CHANGE### switch order between(i and j) according to variables_const and variables_iter\n",
    "            os.popen('uvspec <UVSPEC_REPTRAN_THERMAL.INP> TEST_REPTRAN_THERMAL.out').read()\n",
    "            try:\n",
    "                dirName = 'output_'+str(i) \n",
    "                os.mkdir(dirName)\n",
    "            except:\n",
    "                OSError\n",
    "            dst_path = '/home/sshohan/libRadtran_LUT/'+str(dirName)+'/outfile_'+str(j)+'.txt' \n",
    "            origin_path = './TEST_REPTRAN_THERMAL.out'\n",
    "            not os.path.exists(dst_path) or os.makedirs(dst_path)\n",
    "            shutil.copy(origin_path, dst_path) \n",
    "variables_const = np.arange(4,6) ## select variable which will be constant for each iteration \n",
    "variables_iter = np.linspace(0.1,1,num=3).round(decimals=2) ##select variable for iteration \n",
    "CTH = 2 ## cloud top height\n",
    "CBH = 1 ## cloud base height\n",
    "Wcloud(variables_const,variables_iter,CTP,CBH)\n",
    "\n",
    "#-----------------code end----------------#\n",
    "\n",
    "#variables_const = np.arange(4,6)\n",
    "#LWC=np.linspace(0.1,1,num=3).round(decimals=2)\n",
    "#r_eff = np.linspace(4,15,num=10).round(decimals=2)\n",
    "#Wcloud(LWC)\n",
    "\n"
   ]
  },
  {
   "cell_type": "code",
   "execution_count": null,
   "metadata": {},
   "outputs": [],
   "source": []
  },
  {
   "cell_type": "code",
   "execution_count": 8,
   "metadata": {},
   "outputs": [
    {
     "name": "stdout",
     "output_type": "stream",
     "text": [
      "4\n",
      "5\n"
     ]
    }
   ],
   "source": [
    "import numpy as np\n",
    "r_eff = np.arange(4,6)\n",
    "for j in r_eff:\n",
    "    print (j)"
   ]
  },
  {
   "cell_type": "code",
   "execution_count": 11,
   "metadata": {},
   "outputs": [
    {
     "data": {
      "text/plain": [
       "array([0.1 , 0.55, 1.  ])"
      ]
     },
     "execution_count": 11,
     "metadata": {},
     "output_type": "execute_result"
    }
   ],
   "source": [
    "np.linspace(0.1,1,num=3).round(decimals=2)"
   ]
  },
  {
   "cell_type": "code",
   "execution_count": 14,
   "metadata": {},
   "outputs": [],
   "source": [
    "# for i in range(1, 11):\n",
    "#     for j in range(1, 11):\n",
    "#         print (i *j)"
   ]
  },
  {
   "cell_type": "code",
   "execution_count": null,
   "metadata": {},
   "outputs": [],
   "source": []
  }
 ],
 "metadata": {
  "kernelspec": {
   "display_name": "Python 3",
   "language": "python",
   "name": "python3"
  },
  "language_info": {
   "codemirror_mode": {
    "name": "ipython",
    "version": 3
   },
   "file_extension": ".py",
   "mimetype": "text/x-python",
   "name": "python",
   "nbconvert_exporter": "python",
   "pygments_lexer": "ipython3",
   "version": "3.7.4"
  }
 },
 "nbformat": 4,
 "nbformat_minor": 2
}

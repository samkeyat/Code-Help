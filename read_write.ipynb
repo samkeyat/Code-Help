{
 "cells": [
  {
   "cell_type": "code",
   "execution_count": 3,
   "metadata": {},
   "outputs": [
    {
     "name": "stdout",
     "output_type": "stream",
     "text": [
      "1) This is* a test fi*le\n",
      "2) With* multiple *lines of d*ata...\n",
      "3) *Third line*\n",
      "4) Fourth* line\n",
      "5) F*ifth line\n",
      "*6) Sixth l*ine\n",
      "7) Sev*enth line\n",
      "*8) Eighth *line\n",
      "9) Ni*nth line\n",
      "1*0) Tenth l*ine*"
     ]
    }
   ],
   "source": [
    "with open(\"test.txt\", \"r\") as f:\n",
    "    size_to_read = 10\n",
    "    f_contents = f.read(size_to_read)\n",
    "    while len(f_contents) >0:\n",
    "        print (f_contents, end='*')\n",
    "        f_contents = f.read(size_to_read)\n",
    "#f.seek(0)"
   ]
  },
  {
   "cell_type": "code",
   "execution_count": 2,
   "metadata": {},
   "outputs": [],
   "source": [
    "with open(\"test.txt\", \"r\") as rf:\n",
    "    with open(\"test_copy.txt\", \"w\") as wf:\n",
    "        for line in rf:\n",
    "            wf.write(line)"
   ]
  },
  {
   "cell_type": "code",
   "execution_count": 2,
   "metadata": {},
   "outputs": [],
   "source": [
    "import csv\n",
    "import numpy as np\n",
    "x1 = np.linspace(3,0.5,num=100).round(decimals=2)\n",
    "x2 = np.linspace(0,1,num=100).round(decimals=2)\n",
    "x3 = np.linspace(0,15,num=100).round(decimals=2)\n",
    " \n",
    "with open(\"wc_mp.dat\", \"w\") as file:\n",
    "    csv_writer = csv.writer(file, delimiter=\" \")\n",
    "    for i in range(0, len(x1)):\n",
    "        csv_writer.writerow([str(x1[i]),str(x2[i]),str(x3[i])])"
   ]
  },
  {
   "cell_type": "code",
   "execution_count": 3,
   "metadata": {},
   "outputs": [
    {
     "data": {
      "text/plain": [
       "array([3.  , 2.97, 2.95, 2.92, 2.9 , 2.87, 2.85, 2.82, 2.8 , 2.77, 2.75,\n",
       "       2.72, 2.7 , 2.67, 2.65, 2.62, 2.6 , 2.57, 2.55, 2.52, 2.49, 2.47,\n",
       "       2.44, 2.42, 2.39, 2.37, 2.34, 2.32, 2.29, 2.27, 2.24, 2.22, 2.19,\n",
       "       2.17, 2.14, 2.12, 2.09, 2.07, 2.04, 2.02, 1.99, 1.96, 1.94, 1.91,\n",
       "       1.89, 1.86, 1.84, 1.81, 1.79, 1.76, 1.74, 1.71, 1.69, 1.66, 1.64,\n",
       "       1.61, 1.59, 1.56, 1.54, 1.51, 1.48, 1.46, 1.43, 1.41, 1.38, 1.36,\n",
       "       1.33, 1.31, 1.28, 1.26, 1.23, 1.21, 1.18, 1.16, 1.13, 1.11, 1.08,\n",
       "       1.06, 1.03, 1.01, 0.98, 0.95, 0.93, 0.9 , 0.88, 0.85, 0.83, 0.8 ,\n",
       "       0.78, 0.75, 0.73, 0.7 , 0.68, 0.65, 0.63, 0.6 , 0.58, 0.55, 0.53,\n",
       "       0.5 ])"
      ]
     },
     "execution_count": 3,
     "metadata": {},
     "output_type": "execute_result"
    }
   ],
   "source": [
    "x1"
   ]
  },
  {
   "cell_type": "code",
   "execution_count": null,
   "metadata": {},
   "outputs": [],
   "source": [
    "import csv\n",
    "\n",
    "with open('names.csv', 'w') as csvfile:\n",
    "    fieldnames = ['#z(km)',   'LWC(g/m3)',   'R_eff(um)']\n",
    "    writer = csv.DictWriter(csvfile, fieldnames=fieldnames)\n",
    "    writer.writeheader()\n",
    "    for i in range(10):        \n",
    "        writer.writerow({'#z(km)':'23',   'LWC(g/m3)':'72',   'R_eff(um)':'41'})\n"
   ]
  },
  {
   "cell_type": "code",
   "execution_count": 4,
   "metadata": {},
   "outputs": [],
   "source": [
    "data = np.genfromtxt('TEST_REPTRAN_THERMAL.out')\n",
    "variable_iter = np.linspace(0.1,0.3,num=2).round(decimals=2) \n",
    "with open(\"LUT.dat\",\"w+\") as wfile:\n",
    "    csv_writer = csv.writer(wfile, delimiter= \" \")\n",
    "    for k in range(0, len(variable_iter)):\n",
    "        csv_writer.writerow([str(variable_iter[k]),str(data[1])])"
   ]
  },
  {
   "cell_type": "code",
   "execution_count": 5,
   "metadata": {},
   "outputs": [
    {
     "data": {
      "text/plain": [
       "'output_1'"
      ]
     },
     "execution_count": 5,
     "metadata": {},
     "output_type": "execute_result"
    }
   ],
   "source": [
    "'output_'+str(1) "
   ]
  },
  {
   "cell_type": "code",
   "execution_count": null,
   "metadata": {},
   "outputs": [],
   "source": []
  }
 ],
 "metadata": {
  "kernelspec": {
   "display_name": "Python 3",
   "language": "python",
   "name": "python3"
  },
  "language_info": {
   "codemirror_mode": {
    "name": "ipython",
    "version": 3
   },
   "file_extension": ".py",
   "mimetype": "text/x-python",
   "name": "python",
   "nbconvert_exporter": "python",
   "pygments_lexer": "ipython3",
   "version": "3.7.4"
  }
 },
 "nbformat": 4,
 "nbformat_minor": 2
}

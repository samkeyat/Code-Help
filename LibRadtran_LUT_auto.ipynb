{
 "cells": [
  {
   "cell_type": "code",
   "execution_count": 31,
   "metadata": {},
   "outputs": [],
   "source": [
    "import csv\n",
    "import numpy as np\n",
    "import os\n",
    "import pandas as pd"
   ]
  },
  {
   "cell_type": "code",
   "execution_count": 29,
   "metadata": {},
   "outputs": [],
   "source": [
    "for x in range(1,20):\n",
    "   f = open(\"test\"+str(x), 'w')\n",
    "   f.write(str(x) + \"\\n\" + str(20-x))\n",
    "   f.close()"
   ]
  },
  {
   "cell_type": "code",
   "execution_count": 38,
   "metadata": {},
   "outputs": [],
   "source": [
    "import csv\n",
    "import numpy as np\n",
    "import os\n",
    "def Wcloud(variables):\n",
    "    inp = open(\"UVSPEC_REPTRAN_THERMAL.INP\",\"w+\") \n",
    "    inp.write(\"data_files_path /opt/libradtran/2.0.2/share/libRadtran/data\\r\\n\")\n",
    "    inp.write(\"atmosphere_file /home/sshohan/libRadtran/AFGLUS.70KM\\r\\n\")\n",
    "    inp.write(\"rte_solver disort\\r\\n\")\n",
    "    inp.write(\"pseudospherical\\r\\n\")\n",
    "    inp.write(\"mol_abs_param reptran fine\\r\\n\")\n",
    "    inp.write(\"output_quantity brightness\\r\\n\")\n",
    "    inp.write(\"radiosonde /home/sshohan/libRadtran/20190517_Radiosonde.txt H2O RH\\r\\n\")\n",
    "    inp.write(\"source thermal\\r\\n\")\n",
    "    inp.write(\"wavelength 7700 12000\\r\\n\")\n",
    "    inp.write(\"zout 10.0\\r\\n\")\n",
    "    inp.write(\"wc_properties mie interpolate\\r\\n\")\n",
    "    inp.write(\"wc_file 1D  /home/sshohan/libRadtran_LUT/wc_mp.dat\\r\\n\")\n",
    "    inp.write(\"umu 1.0\\r\\n\")\n",
    "    inp.write(\"output_process integrate\\r\\n\")\n",
    "    inp.write(\"output_user lambda uu\\r\\n\")\n",
    "    inp.close()\n",
    "    for i in variables:\n",
    "        with open(\"wc_mp.dat\",\"w+\") as file:\n",
    "            csv_writer = csv.writer(file, delimiter=\" \")\n",
    "            csv_writer.writerow(['#alt','LWC','r_eff'])\n",
    "            csv_writer.writerow([3,0,0])\n",
    "            csv_writer.writerow([2,0.1,i])\n",
    "        cmd = os.popen('uvspec <UVSPEC_REPTRAN_THERMAL.INP>').read()\n",
    "    return cmd\n",
    "r_eff = np.linspace(4,15,num=100).round(decimals=2)\n",
    "BT = WCloud(r_eff)\n",
    "print(BT)"
   ]
  },
  {
   "cell_type": "code",
   "execution_count": 34,
   "metadata": {},
   "outputs": [],
   "source": [
    "import csv\n",
    "import numpy as np\n",
    "import os\n",
    "import pandas as pd\n",
    "inp = open(\"UVSPEC_REPTRAN_THERMAL.INP\",\"w+\") \n",
    "inp.write(\"data_files_path /opt/libradtran/2.0.2/share/libRadtran/data\\r\\n\")\n",
    "inp.write(\"atmosphere_file /home/sshohan/libRadtran/AFGLUS.70KM\\r\\n\")\n",
    "inp.write(\"rte_solver disort\\r\\n\")\n",
    "inp.write(\"pseudospherical\\r\\n\")\n",
    "inp.write(\"mol_abs_param reptran fine\\r\\n\")\n",
    "inp.write(\"output_quantity brightness\\r\\n\")\n",
    "inp.write(\"radiosonde /home/sshohan/libRadtran/20190517_Radiosonde.txt H2O RH\\r\\n\")\n",
    "inp.write(\"source thermal\\r\\n\")\n",
    "inp.write(\"wavelength 7700 12000\\r\\n\")\n",
    "inp.write(\"zout 10.0\\r\\n\")\n",
    "inp.write(\"wc_properties mie interpolate\\r\\n\")\n",
    "inp.write(\"wc_file 1D  /home/sshohan/libRadtran_LUT/wc_mp.dat\\r\\n\")\n",
    "inp.write(\"umu 1.0\\r\\n\")\n",
    "inp.write(\"output_process integrate\\r\\n\")\n",
    "inp.write(\"output_user lambda uu\\r\\n\")\n",
    "inp.close()\n",
    "r_eff = np.linspace(4,15,num=100).round(decimals=2)\n",
    "#alt = np.linspace(3,0.5,num=10).round(decimals=2)\n",
    "#LWC = np.linspace(0,1,num=10).round(decimals=2)\n",
    "for i in r_eff:\n",
    "    with open(\"wc_mp.dat\",\"w+\") as file:\n",
    "        csv_writer = csv.writer(file, delimiter=\" \")\n",
    "        csv_writer.writerow(['#alt','LWC','r_eff'])\n",
    "        csv_writer.writerow([3,0,0])\n",
    "        csv_writer.writerow([2,0.1,i])\n",
    "    cmd = os.popen('uvspec <UVSPEC_REPTRAN_THERMAL.INP>').read()\n",
    "    print(cmd)\n",
    "#    os.remove(\"wc_mp.dat\")\n",
    "\n",
    "\n",
    "        \n",
    "    "
   ]
  },
  {
   "cell_type": "code",
   "execution_count": 13,
   "metadata": {},
   "outputs": [
    {
     "data": {
      "text/plain": [
       "array([ 4.  ,  4.11,  4.22,  4.33,  4.44,  4.56,  4.67,  4.78,  4.89,\n",
       "        5.  ,  5.11,  5.22,  5.33,  5.44,  5.56,  5.67,  5.78,  5.89,\n",
       "        6.  ,  6.11,  6.22,  6.33,  6.44,  6.56,  6.67,  6.78,  6.89,\n",
       "        7.  ,  7.11,  7.22,  7.33,  7.44,  7.56,  7.67,  7.78,  7.89,\n",
       "        8.  ,  8.11,  8.22,  8.33,  8.44,  8.56,  8.67,  8.78,  8.89,\n",
       "        9.  ,  9.11,  9.22,  9.33,  9.44,  9.56,  9.67,  9.78,  9.89,\n",
       "       10.  , 10.11, 10.22, 10.33, 10.44, 10.56, 10.67, 10.78, 10.89,\n",
       "       11.  , 11.11, 11.22, 11.33, 11.44, 11.56, 11.67, 11.78, 11.89,\n",
       "       12.  , 12.11, 12.22, 12.33, 12.44, 12.56, 12.67, 12.78, 12.89,\n",
       "       13.  , 13.11, 13.22, 13.33, 13.44, 13.56, 13.67, 13.78, 13.89,\n",
       "       14.  , 14.11, 14.22, 14.33, 14.44, 14.56, 14.67, 14.78, 14.89,\n",
       "       15.  ])"
      ]
     },
     "execution_count": 13,
     "metadata": {},
     "output_type": "execute_result"
    }
   ],
   "source": [
    "np.linspace(4,15,num=100).round(decimals=2)"
   ]
  },
  {
   "cell_type": "code",
   "execution_count": 23,
   "metadata": {},
   "outputs": [
    {
     "data": {
      "text/plain": [
       "100"
      ]
     },
     "execution_count": 23,
     "metadata": {},
     "output_type": "execute_result"
    }
   ],
   "source": [
    "len(r_eff)"
   ]
  },
  {
   "cell_type": "code",
   "execution_count": 1,
   "metadata": {},
   "outputs": [
    {
     "ename": "NameError",
     "evalue": "name 'sys' is not defined",
     "output_type": "error",
     "traceback": [
      "\u001b[1;31m---------------------------------------------------------------------------\u001b[0m",
      "\u001b[1;31mNameError\u001b[0m                                 Traceback (most recent call last)",
      "\u001b[1;32m<ipython-input-1-d97f346a829a>\u001b[0m in \u001b[0;36m<module>\u001b[1;34m\u001b[0m\n\u001b[0;32m      1\u001b[0m \u001b[1;32mimport\u001b[0m \u001b[0mos\u001b[0m\u001b[1;33m\u001b[0m\u001b[1;33m\u001b[0m\u001b[0m\n\u001b[0;32m      2\u001b[0m \u001b[1;33m\u001b[0m\u001b[0m\n\u001b[1;32m----> 3\u001b[1;33m \u001b[0moriginal\u001b[0m \u001b[1;33m=\u001b[0m \u001b[0msys\u001b[0m\u001b[1;33m.\u001b[0m\u001b[0margv\u001b[0m\u001b[1;33m[\u001b[0m\u001b[1;36m1\u001b[0m\u001b[1;33m]\u001b[0m\u001b[1;33m\u001b[0m\u001b[1;33m\u001b[0m\u001b[0m\n\u001b[0m\u001b[0;32m      4\u001b[0m \u001b[0moutput\u001b[0m \u001b[1;33m=\u001b[0m \u001b[0msys\u001b[0m\u001b[1;33m.\u001b[0m\u001b[0margv\u001b[0m\u001b[1;33m[\u001b[0m\u001b[1;36m2\u001b[0m\u001b[1;33m]\u001b[0m\u001b[1;33m\u001b[0m\u001b[1;33m\u001b[0m\u001b[0m\n\u001b[0;32m      5\u001b[0m \u001b[1;33m\u001b[0m\u001b[0m\n",
      "\u001b[1;31mNameError\u001b[0m: name 'sys' is not defined"
     ]
    }
   ],
   "source": [
    "import os\n",
    "\n",
    "original = sys.argv[1]\n",
    "output = sys.argv[2]\n",
    "\n",
    "try:\n",
    "    os.rename(original, output)\n",
    "except WindowsError:\n",
    "    os.remove(output)\n",
    "'#'    os.rename(original, output)"
   ]
  },
  {
   "cell_type": "code",
   "execution_count": null,
   "metadata": {},
   "outputs": [],
   "source": [
    "#finally it worked yaaaahuuuuuuuuuuuuu :)\n",
    "\n",
    "import csv\n",
    "import numpy as np\n",
    "import os\n",
    "import shutil\n",
    "#import datetime\n",
    "def Wcloud(variables):\n",
    "    inp = open(\"UVSPEC_REPTRAN_THERMAL.INP\",\"w+\") \n",
    "    inp.write(\"data_files_path /opt/libradtran/2.0.2/share/libRadtran/data\\r\\n\")\n",
    "    inp.write(\"atmosphere_file /home/sshohan/libRadtran/AFGLUS.70KM\\r\\n\")\n",
    "    inp.write(\"rte_solver disort\\r\\n\")\n",
    "    inp.write(\"pseudospherical\\r\\n\")\n",
    "    inp.write(\"mol_abs_param reptran fine\\r\\n\")\n",
    "    inp.write(\"output_quantity brightness\\r\\n\")\n",
    "    inp.write(\"radiosonde /home/sshohan/libRadtran/20190517_Radiosonde.txt H2O RH\\r\\n\")\n",
    "    inp.write(\"source thermal\\r\\n\")\n",
    "    inp.write(\"wavelength 7700 12000\\r\\n\")\n",
    "    inp.write(\"zout 10.0\\r\\n\")\n",
    "    inp.write(\"wc_properties mie interpolate\\r\\n\")\n",
    "    inp.write(\"wc_file 1D  /home/sshohan/libRadtran_LUT/wc_mp.dat\\r\\n\")\n",
    "    inp.write(\"umu 1.0\\r\\n\")\n",
    "    inp.write(\"output_process integrate\\r\\n\")\n",
    "    inp.write(\"output_user lambda uu\\r\\n\")\n",
    "    inp.close()\n",
    "    for i in variables:\n",
    "        with open(\"wc_mp.dat\",\"w+\") as file:\n",
    "            csv_writer = csv.writer(file, delimiter=\" \")\n",
    "            csv_writer.writerow(['#alt','LWC','r_eff'])\n",
    "            csv_writer.writerow([3,0,0])\n",
    "            csv_writer.writerow([2,0.1,i])\n",
    "        cmd = os.popen('uvspec <UVSPEC_REPTRAN_THERMAL.INP> TEST_REPTRAN_THERMAL.out').read()\n",
    "#        now = str(datetime.datetime.now())[:19]\n",
    "#        now = now.replace(\":\",\"_\")\n",
    "        dirName = 'output'\n",
    "        os.mkdir(dirName)\n",
    "        dst_path = '/home/sshohan/libRadtran_LUT/output/outfile_'+str(i)+'.txt'\n",
    "        origin_path = './TEST_REPTRAN_THERMAL.out'\n",
    "        not os.path.exists(dst_path) or os.makedirs(dst_path)\n",
    "        shutil.copy(origin_path, dst_path)\n",
    "r_eff = np.linspace(4,15,num=5).round(decimals=2)\n",
    "BT = Wcloud(r_eff)"
   ]
  },
  {
   "cell_type": "code",
   "execution_count": 1,
   "metadata": {},
   "outputs": [
    {
     "ename": "FileNotFoundError",
     "evalue": "[Errno 2] No such file or directory: '/home/sshohan/libRadtran_LUT/output_4/outfile_0.1.txt'",
     "output_type": "error",
     "traceback": [
      "\u001b[1;31m---------------------------------------------------------------------------\u001b[0m",
      "\u001b[1;31mFileNotFoundError\u001b[0m                         Traceback (most recent call last)",
      "\u001b[1;32m<ipython-input-1-9aa91bd419ee>\u001b[0m in \u001b[0;36m<module>\u001b[1;34m\u001b[0m\n\u001b[0;32m     53\u001b[0m \u001b[0mCTH\u001b[0m \u001b[1;33m=\u001b[0m \u001b[1;36m1\u001b[0m \u001b[1;31m## cloud top height\u001b[0m\u001b[1;33m\u001b[0m\u001b[1;33m\u001b[0m\u001b[0m\n\u001b[0;32m     54\u001b[0m \u001b[0mCBH\u001b[0m \u001b[1;33m=\u001b[0m \u001b[1;36m0.450\u001b[0m \u001b[1;31m## cloud base height\u001b[0m\u001b[1;33m\u001b[0m\u001b[1;33m\u001b[0m\u001b[0m\n\u001b[1;32m---> 55\u001b[1;33m \u001b[0mWcloud\u001b[0m\u001b[1;33m(\u001b[0m\u001b[0mvariable_const\u001b[0m\u001b[1;33m,\u001b[0m\u001b[0mvariable_iter\u001b[0m\u001b[1;33m,\u001b[0m\u001b[0mCTH\u001b[0m\u001b[1;33m,\u001b[0m\u001b[0mCBH\u001b[0m\u001b[1;33m)\u001b[0m\u001b[1;33m\u001b[0m\u001b[1;33m\u001b[0m\u001b[0m\n\u001b[0m\u001b[0;32m     56\u001b[0m \u001b[1;33m\u001b[0m\u001b[0m\n\u001b[0;32m     57\u001b[0m \u001b[1;31m#-----------------code end----------------#\u001b[0m\u001b[1;33m\u001b[0m\u001b[1;33m\u001b[0m\u001b[1;33m\u001b[0m\u001b[0m\n",
      "\u001b[1;32m<ipython-input-1-9aa91bd419ee>\u001b[0m in \u001b[0;36mWcloud\u001b[1;34m(variable_const, variable_iter, CTH, CBH)\u001b[0m\n\u001b[0;32m     48\u001b[0m             \u001b[0morigin_path\u001b[0m \u001b[1;33m=\u001b[0m \u001b[1;34m'./TEST_REPTRAN_THERMAL.out'\u001b[0m\u001b[1;33m\u001b[0m\u001b[1;33m\u001b[0m\u001b[0m\n\u001b[0;32m     49\u001b[0m             \u001b[1;32mnot\u001b[0m \u001b[0mos\u001b[0m\u001b[1;33m.\u001b[0m\u001b[0mpath\u001b[0m\u001b[1;33m.\u001b[0m\u001b[0mexists\u001b[0m\u001b[1;33m(\u001b[0m\u001b[0mdst_path\u001b[0m\u001b[1;33m)\u001b[0m \u001b[1;32mor\u001b[0m \u001b[0mos\u001b[0m\u001b[1;33m.\u001b[0m\u001b[0mmakedirs\u001b[0m\u001b[1;33m(\u001b[0m\u001b[0mdst_path\u001b[0m\u001b[1;33m)\u001b[0m\u001b[1;33m\u001b[0m\u001b[1;33m\u001b[0m\u001b[0m\n\u001b[1;32m---> 50\u001b[1;33m             \u001b[0mshutil\u001b[0m\u001b[1;33m.\u001b[0m\u001b[0mcopy\u001b[0m\u001b[1;33m(\u001b[0m\u001b[0morigin_path\u001b[0m\u001b[1;33m,\u001b[0m \u001b[0mdst_path\u001b[0m\u001b[1;33m)\u001b[0m\u001b[1;33m\u001b[0m\u001b[1;33m\u001b[0m\u001b[0m\n\u001b[0m\u001b[0;32m     51\u001b[0m \u001b[0mvariable_const\u001b[0m \u001b[1;33m=\u001b[0m \u001b[0mnp\u001b[0m\u001b[1;33m.\u001b[0m\u001b[0marange\u001b[0m\u001b[1;33m(\u001b[0m\u001b[1;36m4\u001b[0m\u001b[1;33m,\u001b[0m\u001b[1;36m5\u001b[0m\u001b[1;33m)\u001b[0m \u001b[1;31m## select variable which will be constant for each iteration\u001b[0m\u001b[1;33m\u001b[0m\u001b[1;33m\u001b[0m\u001b[0m\n\u001b[0;32m     52\u001b[0m \u001b[0mvariable_iter\u001b[0m \u001b[1;33m=\u001b[0m \u001b[0mnp\u001b[0m\u001b[1;33m.\u001b[0m\u001b[0mlinspace\u001b[0m\u001b[1;33m(\u001b[0m\u001b[1;36m0.1\u001b[0m\u001b[1;33m,\u001b[0m\u001b[1;36m0.3\u001b[0m\u001b[1;33m,\u001b[0m\u001b[0mnum\u001b[0m\u001b[1;33m=\u001b[0m\u001b[1;36m2\u001b[0m\u001b[1;33m)\u001b[0m\u001b[1;33m.\u001b[0m\u001b[0mround\u001b[0m\u001b[1;33m(\u001b[0m\u001b[0mdecimals\u001b[0m\u001b[1;33m=\u001b[0m\u001b[1;36m2\u001b[0m\u001b[1;33m)\u001b[0m \u001b[1;31m##select variable for iteration\u001b[0m\u001b[1;33m\u001b[0m\u001b[1;33m\u001b[0m\u001b[0m\n",
      "\u001b[1;32m~\\Anaconda3\\lib\\shutil.py\u001b[0m in \u001b[0;36mcopy\u001b[1;34m(src, dst, follow_symlinks)\u001b[0m\n\u001b[0;32m    246\u001b[0m     \u001b[1;32mif\u001b[0m \u001b[0mos\u001b[0m\u001b[1;33m.\u001b[0m\u001b[0mpath\u001b[0m\u001b[1;33m.\u001b[0m\u001b[0misdir\u001b[0m\u001b[1;33m(\u001b[0m\u001b[0mdst\u001b[0m\u001b[1;33m)\u001b[0m\u001b[1;33m:\u001b[0m\u001b[1;33m\u001b[0m\u001b[1;33m\u001b[0m\u001b[0m\n\u001b[0;32m    247\u001b[0m         \u001b[0mdst\u001b[0m \u001b[1;33m=\u001b[0m \u001b[0mos\u001b[0m\u001b[1;33m.\u001b[0m\u001b[0mpath\u001b[0m\u001b[1;33m.\u001b[0m\u001b[0mjoin\u001b[0m\u001b[1;33m(\u001b[0m\u001b[0mdst\u001b[0m\u001b[1;33m,\u001b[0m \u001b[0mos\u001b[0m\u001b[1;33m.\u001b[0m\u001b[0mpath\u001b[0m\u001b[1;33m.\u001b[0m\u001b[0mbasename\u001b[0m\u001b[1;33m(\u001b[0m\u001b[0msrc\u001b[0m\u001b[1;33m)\u001b[0m\u001b[1;33m)\u001b[0m\u001b[1;33m\u001b[0m\u001b[1;33m\u001b[0m\u001b[0m\n\u001b[1;32m--> 248\u001b[1;33m     \u001b[0mcopyfile\u001b[0m\u001b[1;33m(\u001b[0m\u001b[0msrc\u001b[0m\u001b[1;33m,\u001b[0m \u001b[0mdst\u001b[0m\u001b[1;33m,\u001b[0m \u001b[0mfollow_symlinks\u001b[0m\u001b[1;33m=\u001b[0m\u001b[0mfollow_symlinks\u001b[0m\u001b[1;33m)\u001b[0m\u001b[1;33m\u001b[0m\u001b[1;33m\u001b[0m\u001b[0m\n\u001b[0m\u001b[0;32m    249\u001b[0m     \u001b[0mcopymode\u001b[0m\u001b[1;33m(\u001b[0m\u001b[0msrc\u001b[0m\u001b[1;33m,\u001b[0m \u001b[0mdst\u001b[0m\u001b[1;33m,\u001b[0m \u001b[0mfollow_symlinks\u001b[0m\u001b[1;33m=\u001b[0m\u001b[0mfollow_symlinks\u001b[0m\u001b[1;33m)\u001b[0m\u001b[1;33m\u001b[0m\u001b[1;33m\u001b[0m\u001b[0m\n\u001b[0;32m    250\u001b[0m     \u001b[1;32mreturn\u001b[0m \u001b[0mdst\u001b[0m\u001b[1;33m\u001b[0m\u001b[1;33m\u001b[0m\u001b[0m\n",
      "\u001b[1;32m~\\Anaconda3\\lib\\shutil.py\u001b[0m in \u001b[0;36mcopyfile\u001b[1;34m(src, dst, follow_symlinks)\u001b[0m\n\u001b[0;32m    119\u001b[0m     \u001b[1;32melse\u001b[0m\u001b[1;33m:\u001b[0m\u001b[1;33m\u001b[0m\u001b[1;33m\u001b[0m\u001b[0m\n\u001b[0;32m    120\u001b[0m         \u001b[1;32mwith\u001b[0m \u001b[0mopen\u001b[0m\u001b[1;33m(\u001b[0m\u001b[0msrc\u001b[0m\u001b[1;33m,\u001b[0m \u001b[1;34m'rb'\u001b[0m\u001b[1;33m)\u001b[0m \u001b[1;32mas\u001b[0m \u001b[0mfsrc\u001b[0m\u001b[1;33m:\u001b[0m\u001b[1;33m\u001b[0m\u001b[1;33m\u001b[0m\u001b[0m\n\u001b[1;32m--> 121\u001b[1;33m             \u001b[1;32mwith\u001b[0m \u001b[0mopen\u001b[0m\u001b[1;33m(\u001b[0m\u001b[0mdst\u001b[0m\u001b[1;33m,\u001b[0m \u001b[1;34m'wb'\u001b[0m\u001b[1;33m)\u001b[0m \u001b[1;32mas\u001b[0m \u001b[0mfdst\u001b[0m\u001b[1;33m:\u001b[0m\u001b[1;33m\u001b[0m\u001b[1;33m\u001b[0m\u001b[0m\n\u001b[0m\u001b[0;32m    122\u001b[0m                 \u001b[0mcopyfileobj\u001b[0m\u001b[1;33m(\u001b[0m\u001b[0mfsrc\u001b[0m\u001b[1;33m,\u001b[0m \u001b[0mfdst\u001b[0m\u001b[1;33m)\u001b[0m\u001b[1;33m\u001b[0m\u001b[1;33m\u001b[0m\u001b[0m\n\u001b[0;32m    123\u001b[0m     \u001b[1;32mreturn\u001b[0m \u001b[0mdst\u001b[0m\u001b[1;33m\u001b[0m\u001b[1;33m\u001b[0m\u001b[0m\n",
      "\u001b[1;31mFileNotFoundError\u001b[0m: [Errno 2] No such file or directory: '/home/sshohan/libRadtran_LUT/output_4/outfile_0.1.txt'"
     ]
    }
   ],
   "source": []
  },
  {
   "cell_type": "code",
   "execution_count": null,
   "metadata": {},
   "outputs": [],
   "source": []
  }
 ],
 "metadata": {
  "kernelspec": {
   "display_name": "Python 3",
   "language": "python",
   "name": "python3"
  },
  "language_info": {
   "codemirror_mode": {
    "name": "ipython",
    "version": 3
   },
   "file_extension": ".py",
   "mimetype": "text/x-python",
   "name": "python",
   "nbconvert_exporter": "python",
   "pygments_lexer": "ipython3",
   "version": "3.7.4"
  }
 },
 "nbformat": 4,
 "nbformat_minor": 2
}

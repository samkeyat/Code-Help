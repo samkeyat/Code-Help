{
 "cells": [
  {
   "cell_type": "code",
   "execution_count": 2,
   "metadata": {},
   "outputs": [],
   "source": [
    "# This algorithm creates Look Up Table (LUT) by simulating different microphysical variables. \n",
    "# This algorithm will automatically create new output directory and store data according to --\n",
    "# the ranges of microphysical variable as you change the constant microphysical variable\n",
    "# The line needs to be changed per simulation are remarked by a comment on the right side\n",
    "\n",
    "#-----------------code start----------------#\n",
    "\n",
    "import csv\n",
    "import numpy as np\n",
    "import os\n",
    "import shutil\n",
    "\n",
    "def Wcloud(variable_const,variable_iter,CTH,CBH):\n",
    "    inp = open(\"UVSPEC_REPTRAN_THERMAL.INP\",\"w+\") \n",
    "    inp.write(\"data_files_path /opt/libradtran/2.0.2/share/libRadtran/data\\r\\n\")\n",
    "    inp.write(\"atmosphere_file /home/sshohan/libRadtran/AFGLUS.70KM\\r\\n\")\n",
    "    inp.write(\"rte_solver disort\\r\\n\")\n",
    "    inp.write(\"pseudospherical\\r\\n\")\n",
    "    inp.write(\"mol_abs_param reptran fine\\r\\n\")\n",
    "    inp.write(\"output_quantity brightness\\r\\n\")\n",
    "    inp.write(\"radiosonde /home/sshohan/libRadtran/dropsonde_D20200124_134504_PQC.txt H2O RH\\r\\n\")\n",
    "    inp.write(\"source thermal\\r\\n\")\n",
    "    inp.write(\"wavelength 7700 12000\\r\\n\")\n",
    "    inp.write(\"time 2020 01 24 13 45 04\")\n",
    "    inp.write(\"latitude N 14 22 835\")\n",
    "    inp.write(\"longitude W 58 09 833\")\n",
    "    inp.write(\"zout 10.33\\r\\n\") #altitude\n",
    "    inp.write(\"filter_function_file /home/sshohan/libRadtran/Filter_function.txt normalize\\r\\n\")\n",
    "    inp.write(\"wc_properties mie interpolate\\r\\n\")\n",
    "    inp.write(\"wc_file 1D  /home/sshohan/libRadtran_LUT/wc_mp.dat\\r\\n\")\n",
    "    inp.write(\"umu 1.0\\r\\n\") #there would be a loop for later simulation of flight azimuth angle\n",
    "    inp.write(\"output_process integrate\\r\\n\")\n",
    "    inp.write(\"output_user lambda uu\\r\\n\")\n",
    "    inp.close()\n",
    "    for i in variable_const:    \n",
    "        for j in variable_iter:\n",
    "            with open(\"wc_mp.dat\",\"w+\") as file:\n",
    "                csv_writer = csv.writer(file, delimiter=\" \")\n",
    "                csv_writer.writerow(['#alt(km)','LWC(g/m3)','r_eff(um)'])\n",
    "                csv_writer.writerow([CTH,0,0])\n",
    "                csv_writer.writerow([CBH,j,i]) ###ONLY CHANGE### switch order between(i and j) according to variables_const and variables_iter\n",
    "            os.popen('uvspec <UVSPEC_REPTRAN_THERMAL.INP> TEST_REPTRAN_THERMAL.out').read()\n",
    "            try:\n",
    "                dirName = 'output_'+str(i) \n",
    "                os.mkdir(dirName)\n",
    "            except:\n",
    "                OSError\n",
    "            dst_path = '/home/sshohan/libRadtran_LUT/'+str(dirName)+'/outfile_'+str(j)+'.txt' \n",
    "            origin_path = './TEST_REPTRAN_THERMAL.out'\n",
    "            not os.path.exists(dst_path) or os.makedirs(dst_path)\n",
    "            shutil.copy(origin_path, dst_path) \n",
    "            data = np.genfromtxt(dirName)\n",
    "            with open(\"LUT_\"+str(i)+\".txt\",\"w+\") as wfile:\n",
    "                csv_writer = csv.writer(wfile, delimiter= \" \")\n",
    "                for k in range(0, len(variable_iter)):\n",
    "                    csv_writer.writerow([str(variable_iter[k]),str(data[1])])\n",
    "            \n",
    "variable_const = np.arange(4,5) ## select variable which will be constant for each iteration \n",
    "variable_iter = np.linspace(0.1,0.3,num=2).round(decimals=2) ##select variable for iteration \n",
    "CTH = 1 ## cloud top height\n",
    "CBH = 0.450 ## cloud base height\n",
    "Wcloud(variable_const,variable_iter,CTH,CBH)\n",
    "\n",
    "#-----------------code end----------------#\n",
    "\n",
    "#variables_const = np.arange(4,6)\n",
    "#LWC=np.linspace(0.1,1,num=3).round(decimals=2)\n",
    "#r_eff = np.linspace(4,15,num=10).round(decimals=2)\n",
    "#Wcloud(LWC)\n",
    "\n"
   ]
  },
  {
   "cell_type": "code",
   "execution_count": 21,
   "metadata": {},
   "outputs": [
    {
     "data": {
      "text/plain": [
       "288.9849243"
      ]
     },
     "execution_count": 21,
     "metadata": {},
     "output_type": "execute_result"
    }
   ],
   "source": [
    "data = np.genfromtxt('TEST_REPTRAN_THERMAL.out')\n",
    "data[1]"
   ]
  },
  {
   "cell_type": "code",
   "execution_count": null,
   "metadata": {},
   "outputs": [],
   "source": [
    "with open(\"TEST_REPTRAN_THERMAL.out\", \"r\"), open('xyz.txt', 'w') as textfile, myfile:\n",
    "    for line in textfile:\n",
    "        var1, var2 = line.split(\",\");\n",
    "        myfile.writelines(var1)"
   ]
  },
  {
   "cell_type": "code",
   "execution_count": 24,
   "metadata": {},
   "outputs": [
    {
     "data": {
      "text/plain": [
       "array([4, 5])"
      ]
     },
     "execution_count": 24,
     "metadata": {},
     "output_type": "execute_result"
    }
   ],
   "source": [
    "np.arange(4,6,1)"
   ]
  },
  {
   "cell_type": "code",
   "execution_count": 33,
   "metadata": {},
   "outputs": [],
   "source": [
    "import numpy as np\n",
    "from glob import glob\n",
    "matrices = []\n",
    "def read_all_files():\n",
    "    file_names = glob('output_4/output_*.txt')\n",
    "    arrays = [np.loadtxt(f) for f in file_names]\n",
    "    matrices = np.concatenate(arrays)\n",
    "    print(matrices)"
   ]
  },
  {
   "cell_type": "code",
   "execution_count": 32,
   "metadata": {},
   "outputs": [
    {
     "data": {
      "text/plain": [
       "[]"
      ]
     },
     "execution_count": 32,
     "metadata": {},
     "output_type": "execute_result"
    }
   ],
   "source": [
    "matrices"
   ]
  },
  {
   "cell_type": "code",
   "execution_count": 37,
   "metadata": {},
   "outputs": [
    {
     "ename": "NameError",
     "evalue": "name 'output_' is not defined",
     "output_type": "error",
     "traceback": [
      "\u001b[1;31m---------------------------------------------------------------------------\u001b[0m",
      "\u001b[1;31mNameError\u001b[0m                                 Traceback (most recent call last)",
      "\u001b[1;32m<ipython-input-37-1f0ccc68648b>\u001b[0m in \u001b[0;36m<module>\u001b[1;34m\u001b[0m\n\u001b[0;32m      4\u001b[0m \u001b[1;31m# and for each file name the paths where they\u001b[0m\u001b[1;33m\u001b[0m\u001b[1;33m\u001b[0m\u001b[1;33m\u001b[0m\u001b[0m\n\u001b[0;32m      5\u001b[0m \u001b[1;31m# were found\u001b[0m\u001b[1;33m\u001b[0m\u001b[1;33m\u001b[0m\u001b[1;33m\u001b[0m\u001b[0m\n\u001b[1;32m----> 6\u001b[1;33m \u001b[0mfile_paths\u001b[0m \u001b[1;33m=\u001b[0m \u001b[1;33m{\u001b[0m\u001b[0moutput_\u001b[0m\u001b[1;33m}\u001b[0m\u001b[1;33m\u001b[0m\u001b[1;33m\u001b[0m\u001b[0m\n\u001b[0m\u001b[0;32m      7\u001b[0m \u001b[1;32mfor\u001b[0m \u001b[0mroot\u001b[0m\u001b[1;33m,\u001b[0m \u001b[0mdirs\u001b[0m\u001b[1;33m,\u001b[0m \u001b[0mfiles\u001b[0m \u001b[1;32min\u001b[0m \u001b[0mos\u001b[0m\u001b[1;33m.\u001b[0m\u001b[0mwalk\u001b[0m\u001b[1;33m(\u001b[0m\u001b[1;34m'.'\u001b[0m\u001b[1;33m)\u001b[0m\u001b[1;33m:\u001b[0m\u001b[1;33m\u001b[0m\u001b[1;33m\u001b[0m\u001b[0m\n\u001b[0;32m      8\u001b[0m     \u001b[1;32mfor\u001b[0m \u001b[0mf\u001b[0m \u001b[1;32min\u001b[0m \u001b[0mfiles\u001b[0m\u001b[1;33m:\u001b[0m\u001b[1;33m\u001b[0m\u001b[1;33m\u001b[0m\u001b[0m\n",
      "\u001b[1;31mNameError\u001b[0m: name 'output_' is not defined"
     ]
    }
   ],
   "source": [
    "\n",
    "import os\n",
    "\n",
    "# create a dictionary with file names as keys\n",
    "# and for each file name the paths where they\n",
    "# were found\n",
    "file_paths = {'output_}\n",
    "for root, dirs, files in os.walk('.'):\n",
    "    for f in files:\n",
    "        if f.endswith('.txt'):\n",
    "            if f not in file_paths:\n",
    "                file_paths[f] = []\n",
    "            file_paths[f].append(root)\n"
   ]
  },
  {
   "cell_type": "code",
   "execution_count": null,
   "metadata": {},
   "outputs": [],
   "source": []
  },
  {
   "cell_type": "code",
   "execution_count": null,
   "metadata": {},
   "outputs": [],
   "source": []
  }
 ],
 "metadata": {
  "kernelspec": {
   "display_name": "Python 3",
   "language": "python",
   "name": "python3"
  },
  "language_info": {
   "codemirror_mode": {
    "name": "ipython",
    "version": 3
   },
   "file_extension": ".py",
   "mimetype": "text/x-python",
   "name": "python",
   "nbconvert_exporter": "python",
   "pygments_lexer": "ipython3",
   "version": "3.7.4"
  }
 },
 "nbformat": 4,
 "nbformat_minor": 2
}

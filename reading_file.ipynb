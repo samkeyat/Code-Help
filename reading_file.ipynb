{
 "cells": [
  {
   "cell_type": "code",
   "execution_count": 45,
   "metadata": {},
   "outputs": [],
   "source": [
    "import pandas as pd\n",
    "df = pd.read_csv(\"afglt_evi.dat\", sep = \"\\s+\", skiprows=2, header=None, names=['Z_km','P_mb','T_K','air_cm-3','o3_cm-3','o2_cm-3','h2o_cm-3','co2_cm-3','no2_cm-3'])"
   ]
  },
  {
   "cell_type": "code",
   "execution_count": 46,
   "metadata": {},
   "outputs": [
    {
     "data": {
      "text/plain": [
       "9"
      ]
     },
     "execution_count": 46,
     "metadata": {},
     "output_type": "execute_result"
    }
   ],
   "source": [
    "len(df.columns)"
   ]
  },
  {
   "cell_type": "code",
   "execution_count": 48,
   "metadata": {},
   "outputs": [
    {
     "data": {
      "text/html": [
       "<div>\n",
       "<style scoped>\n",
       "    .dataframe tbody tr th:only-of-type {\n",
       "        vertical-align: middle;\n",
       "    }\n",
       "\n",
       "    .dataframe tbody tr th {\n",
       "        vertical-align: top;\n",
       "    }\n",
       "\n",
       "    .dataframe thead th {\n",
       "        text-align: right;\n",
       "    }\n",
       "</style>\n",
       "<table border=\"1\" class=\"dataframe\">\n",
       "  <thead>\n",
       "    <tr style=\"text-align: right;\">\n",
       "      <th></th>\n",
       "      <th>Z_km</th>\n",
       "      <th>P_mb</th>\n",
       "      <th>T_K</th>\n",
       "      <th>air_cm-3</th>\n",
       "      <th>o3_cm-3</th>\n",
       "      <th>o2_cm-3</th>\n",
       "      <th>h2o_cm-3</th>\n",
       "      <th>co2_cm-3</th>\n",
       "      <th>no2_cm-3</th>\n",
       "    </tr>\n",
       "  </thead>\n",
       "  <tbody>\n",
       "    <tr>\n",
       "      <td>85</td>\n",
       "      <td>0.8</td>\n",
       "      <td>925.88561</td>\n",
       "      <td>295.32</td>\n",
       "      <td>2.269920e+19</td>\n",
       "      <td>6.979380e+11</td>\n",
       "      <td>4.721500e+18</td>\n",
       "      <td>5.690460e+17</td>\n",
       "      <td>7.454940e+15</td>\n",
       "      <td>519584000.0</td>\n",
       "    </tr>\n",
       "    <tr>\n",
       "      <td>86</td>\n",
       "      <td>0.6</td>\n",
       "      <td>947.63468</td>\n",
       "      <td>296.94</td>\n",
       "      <td>2.310240e+19</td>\n",
       "      <td>6.979660e+11</td>\n",
       "      <td>4.812400e+18</td>\n",
       "      <td>6.290420e+17</td>\n",
       "      <td>7.598480e+15</td>\n",
       "      <td>529588000.0</td>\n",
       "    </tr>\n",
       "    <tr>\n",
       "      <td>87</td>\n",
       "      <td>0.4</td>\n",
       "      <td>969.38376</td>\n",
       "      <td>298.56</td>\n",
       "      <td>2.350560e+19</td>\n",
       "      <td>6.979940e+11</td>\n",
       "      <td>4.903300e+18</td>\n",
       "      <td>6.890380e+17</td>\n",
       "      <td>7.742020e+15</td>\n",
       "      <td>539592000.0</td>\n",
       "    </tr>\n",
       "    <tr>\n",
       "      <td>88</td>\n",
       "      <td>0.2</td>\n",
       "      <td>991.13283</td>\n",
       "      <td>300.18</td>\n",
       "      <td>2.390880e+19</td>\n",
       "      <td>6.980220e+11</td>\n",
       "      <td>4.994200e+18</td>\n",
       "      <td>7.490340e+17</td>\n",
       "      <td>7.885560e+15</td>\n",
       "      <td>549596000.0</td>\n",
       "    </tr>\n",
       "    <tr>\n",
       "      <td>89</td>\n",
       "      <td>0.0</td>\n",
       "      <td>1012.88190</td>\n",
       "      <td>301.80</td>\n",
       "      <td>2.431200e+19</td>\n",
       "      <td>6.980500e+11</td>\n",
       "      <td>5.085100e+18</td>\n",
       "      <td>8.090300e+17</td>\n",
       "      <td>8.029100e+15</td>\n",
       "      <td>559600000.0</td>\n",
       "    </tr>\n",
       "  </tbody>\n",
       "</table>\n",
       "</div>"
      ],
      "text/plain": [
       "    Z_km        P_mb     T_K      air_cm-3       o3_cm-3       o2_cm-3  \\\n",
       "85   0.8   925.88561  295.32  2.269920e+19  6.979380e+11  4.721500e+18   \n",
       "86   0.6   947.63468  296.94  2.310240e+19  6.979660e+11  4.812400e+18   \n",
       "87   0.4   969.38376  298.56  2.350560e+19  6.979940e+11  4.903300e+18   \n",
       "88   0.2   991.13283  300.18  2.390880e+19  6.980220e+11  4.994200e+18   \n",
       "89   0.0  1012.88190  301.80  2.431200e+19  6.980500e+11  5.085100e+18   \n",
       "\n",
       "        h2o_cm-3      co2_cm-3     no2_cm-3  \n",
       "85  5.690460e+17  7.454940e+15  519584000.0  \n",
       "86  6.290420e+17  7.598480e+15  529588000.0  \n",
       "87  6.890380e+17  7.742020e+15  539592000.0  \n",
       "88  7.490340e+17  7.885560e+15  549596000.0  \n",
       "89  8.090300e+17  8.029100e+15  559600000.0  "
      ]
     },
     "execution_count": 48,
     "metadata": {},
     "output_type": "execute_result"
    }
   ],
   "source": [
    "df.tail()"
   ]
  },
  {
   "cell_type": "code",
   "execution_count": null,
   "metadata": {},
   "outputs": [],
   "source": []
  }
 ],
 "metadata": {
  "kernelspec": {
   "display_name": "Python 3",
   "language": "python",
   "name": "python3"
  },
  "language_info": {
   "codemirror_mode": {
    "name": "ipython",
    "version": 3
   },
   "file_extension": ".py",
   "mimetype": "text/x-python",
   "name": "python",
   "nbconvert_exporter": "python",
   "pygments_lexer": "ipython3",
   "version": "3.7.4"
  }
 },
 "nbformat": 4,
 "nbformat_minor": 2
}

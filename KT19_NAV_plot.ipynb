{
 "cells": [
  {
   "cell_type": "code",
   "execution_count": 8,
   "metadata": {},
   "outputs": [
    {
     "name": "stdout",
     "output_type": "stream",
     "text": [
      "Input time in seconds: 788\n",
      "d:h:m:s-> 0:0:13:8\n"
     ]
    }
   ],
   "source": [
    "time = float(input(\"Input time in seconds: \"))\n",
    "day = time // (24 * 3600)\n",
    "time = time % (24 * 3600)\n",
    "hour = time // 3600\n",
    "time %= 3600\n",
    "minutes = time // 60\n",
    "time %= 60\n",
    "seconds = time\n",
    "print(\"d:h:m:s-> %d:%d:%d:%d\" % (day, hour, minutes, seconds))"
   ]
  },
  {
   "cell_type": "code",
   "execution_count": 14,
   "metadata": {},
   "outputs": [
    {
     "data": {
      "text/plain": [
       "datetime.datetime(1970, 1, 1, 1, 0, 1)"
      ]
     },
     "execution_count": 14,
     "metadata": {},
     "output_type": "execute_result"
    }
   ],
   "source": [
    "import datetime\n",
    "datetime.datetime.fromtimestamp(1)"
   ]
  },
  {
   "cell_type": "code",
   "execution_count": 1,
   "metadata": {},
   "outputs": [],
   "source": [
    "def convertSeconds(seconds):\n",
    "    h = seconds//(60*60)\n",
    "    m = (seconds-h*60*60)//60\n",
    "    s = seconds-(h*60*60)-(m*60)\n",
    "    return [h, m, s]"
   ]
  },
  {
   "cell_type": "code",
   "execution_count": 3,
   "metadata": {},
   "outputs": [
    {
     "data": {
      "text/plain": [
       "[18, 47, 2]"
      ]
     },
     "execution_count": 3,
     "metadata": {},
     "output_type": "execute_result"
    }
   ],
   "source": [
    "convertSeconds(67622)"
   ]
  },
  {
   "cell_type": "code",
   "execution_count": 49,
   "metadata": {},
   "outputs": [
    {
     "data": {
      "text/html": [
       "<div>\n",
       "<style scoped>\n",
       "    .dataframe tbody tr th:only-of-type {\n",
       "        vertical-align: middle;\n",
       "    }\n",
       "\n",
       "    .dataframe tbody tr th {\n",
       "        vertical-align: top;\n",
       "    }\n",
       "\n",
       "    .dataframe thead th {\n",
       "        text-align: right;\n",
       "    }\n",
       "</style>\n",
       "<table border=\"1\" class=\"dataframe\">\n",
       "  <thead>\n",
       "    <tr style=\"text-align: right;\">\n",
       "      <th></th>\n",
       "      <th>0</th>\n",
       "    </tr>\n",
       "  </thead>\n",
       "  <tbody>\n",
       "    <tr>\n",
       "      <td>0</td>\n",
       "      <td>20200119 09 59 59.92   260.93       1.00      ...</td>\n",
       "    </tr>\n",
       "    <tr>\n",
       "      <td>1</td>\n",
       "      <td>20200119 10 00 00.07   260.84       1.00      ...</td>\n",
       "    </tr>\n",
       "    <tr>\n",
       "      <td>2</td>\n",
       "      <td>20200119 10 00 00.17   260.86       1.00      ...</td>\n",
       "    </tr>\n",
       "    <tr>\n",
       "      <td>3</td>\n",
       "      <td>20200119 10 00 00.28   260.91       1.00      ...</td>\n",
       "    </tr>\n",
       "    <tr>\n",
       "      <td>4</td>\n",
       "      <td>20200119 10 00 00.37   260.96       1.00      ...</td>\n",
       "    </tr>\n",
       "    <tr>\n",
       "      <td>...</td>\n",
       "      <td>...</td>\n",
       "    </tr>\n",
       "    <tr>\n",
       "      <td>28945</td>\n",
       "      <td>20200119 10 59 59.35   249.24       1.00      ...</td>\n",
       "    </tr>\n",
       "    <tr>\n",
       "      <td>28946</td>\n",
       "      <td>20200119 10 59 59.50   249.36       1.00      ...</td>\n",
       "    </tr>\n",
       "    <tr>\n",
       "      <td>28947</td>\n",
       "      <td>20200119 10 59 59.60   249.25       1.00      ...</td>\n",
       "    </tr>\n",
       "    <tr>\n",
       "      <td>28948</td>\n",
       "      <td>20200119 10 59 59.75   249.26       1.00      ...</td>\n",
       "    </tr>\n",
       "    <tr>\n",
       "      <td>28949</td>\n",
       "      <td>20200119 10 59 59.85   249.31       1.00      ...</td>\n",
       "    </tr>\n",
       "  </tbody>\n",
       "</table>\n",
       "<p>28950 rows × 1 columns</p>\n",
       "</div>"
      ],
      "text/plain": [
       "                                                       0\n",
       "0      20200119 09 59 59.92   260.93       1.00      ...\n",
       "1      20200119 10 00 00.07   260.84       1.00      ...\n",
       "2      20200119 10 00 00.17   260.86       1.00      ...\n",
       "3      20200119 10 00 00.28   260.91       1.00      ...\n",
       "4      20200119 10 00 00.37   260.96       1.00      ...\n",
       "...                                                  ...\n",
       "28945  20200119 10 59 59.35   249.24       1.00      ...\n",
       "28946  20200119 10 59 59.50   249.36       1.00      ...\n",
       "28947  20200119 10 59 59.60   249.25       1.00      ...\n",
       "28948  20200119 10 59 59.75   249.26       1.00      ...\n",
       "28949  20200119 10 59 59.85   249.31       1.00      ...\n",
       "\n",
       "[28950 rows x 1 columns]"
      ]
     },
     "execution_count": 49,
     "metadata": {},
     "output_type": "execute_result"
    }
   ],
   "source": [
    "df = pd.read_csv('KT19_20200119_10.dat', header = None)\n",
    "df"
   ]
  },
  {
   "cell_type": "code",
   "execution_count": 48,
   "metadata": {},
   "outputs": [
    {
     "data": {
      "text/plain": [
       "3"
      ]
     },
     "execution_count": 48,
     "metadata": {},
     "output_type": "execute_result"
    }
   ],
   "source": [
    "6//2"
   ]
  },
  {
   "cell_type": "code",
   "execution_count": null,
   "metadata": {},
   "outputs": [],
   "source": []
  }
 ],
 "metadata": {
  "kernelspec": {
   "display_name": "Python 3",
   "language": "python",
   "name": "python3"
  },
  "language_info": {
   "codemirror_mode": {
    "name": "ipython",
    "version": 3
   },
   "file_extension": ".py",
   "mimetype": "text/x-python",
   "name": "python",
   "nbconvert_exporter": "python",
   "pygments_lexer": "ipython3",
   "version": "3.7.4"
  }
 },
 "nbformat": 4,
 "nbformat_minor": 2
}

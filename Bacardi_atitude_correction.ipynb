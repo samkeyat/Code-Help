{
 "cells": [
  {
   "cell_type": "code",
   "execution_count": 3,
   "metadata": {},
   "outputs": [
    {
     "data": {
      "text/html": [
       "<div>\n",
       "<style scoped>\n",
       "    .dataframe tbody tr th:only-of-type {\n",
       "        vertical-align: middle;\n",
       "    }\n",
       "\n",
       "    .dataframe tbody tr th {\n",
       "        vertical-align: top;\n",
       "    }\n",
       "\n",
       "    .dataframe thead th {\n",
       "        text-align: right;\n",
       "    }\n",
       "</style>\n",
       "<table border=\"1\" class=\"dataframe\">\n",
       "  <thead>\n",
       "    <tr style=\"text-align: right;\">\n",
       "      <th></th>\n",
       "      <th>time</th>\n",
       "    </tr>\n",
       "  </thead>\n",
       "  <tbody>\n",
       "    <tr>\n",
       "      <td>0</td>\n",
       "      <td>41282.0</td>\n",
       "    </tr>\n",
       "    <tr>\n",
       "      <td>1</td>\n",
       "      <td>41282.1</td>\n",
       "    </tr>\n",
       "    <tr>\n",
       "      <td>2</td>\n",
       "      <td>41282.2</td>\n",
       "    </tr>\n",
       "    <tr>\n",
       "      <td>3</td>\n",
       "      <td>41282.3</td>\n",
       "    </tr>\n",
       "    <tr>\n",
       "      <td>4</td>\n",
       "      <td>41282.4</td>\n",
       "    </tr>\n",
       "  </tbody>\n",
       "</table>\n",
       "</div>"
      ],
      "text/plain": [
       "      time\n",
       "0  41282.0\n",
       "1  41282.1\n",
       "2  41282.2\n",
       "3  41282.3\n",
       "4  41282.4"
      ]
     },
     "execution_count": 3,
     "metadata": {},
     "output_type": "execute_result"
    }
   ],
   "source": [
    "#EUREC4A_HALO_BAHAMAS-Radiometer_20200122a.nc\n",
    "#EUREC4A_HALO_BAHAMS-QL-10Hz_20200122a.nc\n",
    "#Nav_IMS0000.Asc\n",
    "from netCDF4 import Dataset\n",
    "import numpy as np\n",
    "import matplotlib.pyplot as plt\n",
    "from mpl_toolkits.axes_grid1.inset_locator import inset_axes\n",
    "import pandas as pd\n",
    "import metpy.calc as mpcalc\n",
    "from metpy.cbook import get_test_data\n",
    "from metpy.plots import Hodograph, SkewT\n",
    "from metpy.units import units\n",
    "my_example_nc_file = 'EUREC4A_HALO_BAHAMAS-Radiometer_20200202a.nc'\n",
    "fh = Dataset(my_example_nc_file, mode='r')\n",
    "df_fdir = pd.read_csv('BBR_DirectFraction_Flight_20200202a_R0.dat',skiprows = 34,delim_whitespace=True)\n",
    "df_fdw = pd.read_csv('BBR_Fdn_clear_sky_Flight_20200202a_R0.dat',skiprows = 34, delim_whitespace=True)\n",
    "fdw_time = df_fdw.loc[:,['sod','F_dw']]\n",
    "fdir_time = df_fdir.loc[:,'f_dir']\n",
    "db = pd.concat([fdw_time,fdir_time],axis=1)\n",
    "db.set_index('sod',inplace=True)\n",
    "time = fh.variables['TIME'][:] # time\n",
    "time_bac = pd.DataFrame(time.T, columns = ['time'])\n",
    "#pd.options.display.float_format = '{:,.0f}'.format\n",
    "time_bac = time_bac/1000\n",
    "time_bac.head()\n",
    "#print(fh.variables.keys())\n",
    "#db"
   ]
  },
  {
   "cell_type": "code",
   "execution_count": 9,
   "metadata": {},
   "outputs": [
    {
     "data": {
      "text/html": [
       "<div>\n",
       "<style scoped>\n",
       "    .dataframe tbody tr th:only-of-type {\n",
       "        vertical-align: middle;\n",
       "    }\n",
       "\n",
       "    .dataframe tbody tr th {\n",
       "        vertical-align: top;\n",
       "    }\n",
       "\n",
       "    .dataframe thead th {\n",
       "        text-align: right;\n",
       "    }\n",
       "</style>\n",
       "<table border=\"1\" class=\"dataframe\">\n",
       "  <thead>\n",
       "    <tr style=\"text-align: right;\">\n",
       "      <th></th>\n",
       "      <th>2</th>\n",
       "      <th>3</th>\n",
       "      <th>4</th>\n",
       "    </tr>\n",
       "  </thead>\n",
       "  <tbody>\n",
       "    <tr>\n",
       "      <td>0</td>\n",
       "      <td>-0.204582</td>\n",
       "      <td>1.390774</td>\n",
       "      <td>76.065269</td>\n",
       "    </tr>\n",
       "    <tr>\n",
       "      <td>1</td>\n",
       "      <td>-0.204607</td>\n",
       "      <td>1.390832</td>\n",
       "      <td>76.065315</td>\n",
       "    </tr>\n",
       "    <tr>\n",
       "      <td>2</td>\n",
       "      <td>-0.204657</td>\n",
       "      <td>1.390752</td>\n",
       "      <td>76.065445</td>\n",
       "    </tr>\n",
       "    <tr>\n",
       "      <td>3</td>\n",
       "      <td>-0.204877</td>\n",
       "      <td>1.390615</td>\n",
       "      <td>76.065475</td>\n",
       "    </tr>\n",
       "    <tr>\n",
       "      <td>4</td>\n",
       "      <td>-0.204955</td>\n",
       "      <td>1.390674</td>\n",
       "      <td>76.065605</td>\n",
       "    </tr>\n",
       "    <tr>\n",
       "      <td>...</td>\n",
       "      <td>...</td>\n",
       "      <td>...</td>\n",
       "      <td>...</td>\n",
       "    </tr>\n",
       "    <tr>\n",
       "      <td>751426</td>\n",
       "      <td>3.414081</td>\n",
       "      <td>-2.702178</td>\n",
       "      <td>-78.576035</td>\n",
       "    </tr>\n",
       "    <tr>\n",
       "      <td>751427</td>\n",
       "      <td>3.411791</td>\n",
       "      <td>-2.700373</td>\n",
       "      <td>-78.576698</td>\n",
       "    </tr>\n",
       "    <tr>\n",
       "      <td>751428</td>\n",
       "      <td>3.413457</td>\n",
       "      <td>-2.702226</td>\n",
       "      <td>-78.577835</td>\n",
       "    </tr>\n",
       "    <tr>\n",
       "      <td>751429</td>\n",
       "      <td>3.411241</td>\n",
       "      <td>-2.699315</td>\n",
       "      <td>-78.578369</td>\n",
       "    </tr>\n",
       "    <tr>\n",
       "      <td>751430</td>\n",
       "      <td>3.413101</td>\n",
       "      <td>-2.702229</td>\n",
       "      <td>NaN</td>\n",
       "    </tr>\n",
       "  </tbody>\n",
       "</table>\n",
       "<p>751431 rows × 3 columns</p>\n",
       "</div>"
      ],
      "text/plain": [
       "               2         3          4\n",
       "0      -0.204582  1.390774  76.065269\n",
       "1      -0.204607  1.390832  76.065315\n",
       "2      -0.204657  1.390752  76.065445\n",
       "3      -0.204877  1.390615  76.065475\n",
       "4      -0.204955  1.390674  76.065605\n",
       "...          ...       ...        ...\n",
       "751426  3.414081 -2.702178 -78.576035\n",
       "751427  3.411791 -2.700373 -78.576698\n",
       "751428  3.413457 -2.702226 -78.577835\n",
       "751429  3.411241 -2.699315 -78.578369\n",
       "751430  3.413101 -2.702229        NaN\n",
       "\n",
       "[751431 rows x 3 columns]"
      ]
     },
     "execution_count": 9,
     "metadata": {},
     "output_type": "execute_result"
    }
   ],
   "source": [
    "nav = pd.read_csv('Nav_IMS0000.Asc',skiprows=14, header=None,delim_whitespace=True)\n",
    "#nav.drop(['B', 'C'], axis=1)\n",
    "nav.iloc[:,2:5]"
   ]
  },
  {
   "cell_type": "code",
   "execution_count": 2,
   "metadata": {},
   "outputs": [
    {
     "data": {
      "text/plain": [
       "[11, 28, 2]"
      ]
     },
     "execution_count": 2,
     "metadata": {},
     "output_type": "execute_result"
    }
   ],
   "source": [
    "def convertSeconds(seconds):\n",
    "    h = seconds//(60*60)\n",
    "    m = (seconds-h*60*60)//60\n",
    "    s = seconds-(h*60*60)-(m*60)\n",
    "    return [h, m, s]\n",
    "convertSeconds(41282)"
   ]
  },
  {
   "cell_type": "code",
   "execution_count": null,
   "metadata": {},
   "outputs": [],
   "source": [
    "array = np.arange(41282,72804, 1)\n",
    "arr = array.repeat(10)\n",
    "df_arr = pd.DataFrame(arr, columns = ['time_arr'])\n",
    "df_arr.set_index('time_arr',inplace=True)\n",
    "data = df_arr.join(db)\n",
    "data.reset_index(level=0, inplace=True)\n",
    "dat = pd.concat([time_bac,data],axis=1)\n",
    "dat = dat.drop(columns=['index'])\n",
    "dat_dup = dat.drop_duplicates('F_dw')\n",
    "dat_dup.columns = ['t','f_dw','f_dr']\n",
    "df_big = pd.concat([dat,dat_dup],axis=1)\n",
    "df_bacardi = df_big.drop(['t','F_dw','f_dir'],axis=1)\n",
    "df_bacardi.columns = ['Time','F_dw','f_dir']\n",
    "df_final = df_bacardi.interpolate(method='nearest', axis=0).ffill().bfill()\n",
    "df_final\n",
    "#df_final.to_csv('df_final.txt')"
   ]
  },
  {
   "cell_type": "code",
   "execution_count": null,
   "metadata": {},
   "outputs": [],
   "source": []
  },
  {
   "cell_type": "code",
   "execution_count": null,
   "metadata": {},
   "outputs": [],
   "source": [
    "ri = fh.variables['IRS_PHI'][:] # roll angle \"deg\"\n",
    "ro = pd.DataFrame(ri.T)\n",
    "pi = fh.variables['IRS_THE'][:] # pitch angle \"deg\"\n",
    "po = pd.DataFrame(pi.T)\n",
    "yi = fh.variables['IRS_HDG'][:] # yaw angle \"deg\"\n",
    "y = pd.DataFrame(yi.T)\n",
    "szai = fh.variables['SUN_ALT'][:] # solar altitude angle\n",
    "sza = pd.DataFrame(szai.T)\n",
    "saai = fh.variables['SUN_AZI'][:] # solar azimuth angle\n",
    "saa = pd.DataFrame(saai.T)\n",
    "fdw = df_final.loc[:,'F_dw']\n",
    "fdir = df_final.loc[:,'f_dir']\n",
    "SWd = fh.variables['FDSC'][:]\n",
    "SWD = pd.DataFrame(SWd.T)\n",
    "SWD.columns=['swu']\n",
    "r_off = 0.3\n",
    "p_off = -2.55\n",
    "r = ro+r_off\n",
    "p = po+p_off"
   ]
  },
  {
   "cell_type": "code",
   "execution_count": null,
   "metadata": {},
   "outputs": [],
   "source": [
    "import math\n",
    "def Fdw_attitude_correction(fdw,r,p,y,sza,saa,r_off,p_off,fdir):\n",
    "    for i in sza.iloc[:,0:1]:\n",
    "        for j in saa.iloc[:,0:1]:\n",
    "            for k in r.iloc[:,0:1]:\n",
    "                for l in p.iloc[:,0:1]:\n",
    "                    for m in y.iloc[:,0:1]:\n",
    "                        for n in fdw:\n",
    "                            for o in fdir:\n",
    "                                eq1 = math.sin((90-i)*0.0175)\n",
    "                                eq2 = (math.cos((90-i)*0.0175)*math.sin(k*0.0175)*math.sin((j-m)*0.0175))\n",
    "                                eq3 = (math.cos((90-i)*0.0175)*math.sin(l*0.0175))\n",
    "                                eq4 = (math.cos(k*0.0175)*math.cos((j-m)*0.0175))\n",
    "                                eq5 = (math.sin((90-i)*0.0175)*math.cos(l*0.0175)*math.cos(k*0.0175))\n",
    "                                #factor = eq1/((eq2-eq3*(eq4+eq5))\n",
    "                                factor = eq1/(eq2-((eq3+eq4)+eq5))\n",
    "                                Fdw=o*n*factor+(1-o)*n\n",
    "\n",
    "correction_weighted = Fdw_attitude_correction(fdw,r,p,y,sza,saa,r_off,p_off,fdir)\n",
    "\n",
    "corrected_FDSC = SWD.swu - correction_weighted\n",
    "swd_correct = pd.DataFrame(corrected_FDSC)\n",
    "swd_correct.columns = ['swd_corr']\n",
    "swd_correct"
   ]
  },
  {
   "cell_type": "code",
   "execution_count": null,
   "metadata": {},
   "outputs": [],
   "source": [
    "df_final.Time"
   ]
  },
  {
   "cell_type": "code",
   "execution_count": null,
   "metadata": {},
   "outputs": [],
   "source": [
    "import datetime \n",
    "  \n",
    "def convert(n): \n",
    "    return str(datetime.timedelta(seconds = n)) \n",
    "Dtime = []\n",
    "for x in df_final.Time:\n",
    "    Dtime.append(convert(x))\n"
   ]
  },
  {
   "cell_type": "code",
   "execution_count": 1,
   "metadata": {},
   "outputs": [
    {
     "ename": "NameError",
     "evalue": "name 'pd' is not defined",
     "output_type": "error",
     "traceback": [
      "\u001b[1;31m---------------------------------------------------------------------------\u001b[0m",
      "\u001b[1;31mNameError\u001b[0m                                 Traceback (most recent call last)",
      "\u001b[1;32m<ipython-input-1-9800127921d3>\u001b[0m in \u001b[0;36m<module>\u001b[1;34m\u001b[0m\n\u001b[0;32m      3\u001b[0m \u001b[1;31m#     y_smooth = np.convolve(y, box, mode='same')\u001b[0m\u001b[1;33m\u001b[0m\u001b[1;33m\u001b[0m\u001b[1;33m\u001b[0m\u001b[0m\n\u001b[0;32m      4\u001b[0m \u001b[1;31m#     return y_smooth\u001b[0m\u001b[1;33m\u001b[0m\u001b[1;33m\u001b[0m\u001b[1;33m\u001b[0m\u001b[0m\n\u001b[1;32m----> 5\u001b[1;33m \u001b[0mfg\u001b[0m \u001b[1;33m=\u001b[0m \u001b[0mpd\u001b[0m\u001b[1;33m.\u001b[0m\u001b[0mconcat\u001b[0m\u001b[1;33m(\u001b[0m\u001b[1;33m[\u001b[0m\u001b[0mdf_final\u001b[0m\u001b[1;33m.\u001b[0m\u001b[0mTime\u001b[0m\u001b[1;33m,\u001b[0m\u001b[0mswd_correct\u001b[0m\u001b[1;33m.\u001b[0m\u001b[0mswd_corr\u001b[0m\u001b[1;33m,\u001b[0m\u001b[0mSWD\u001b[0m\u001b[1;33m.\u001b[0m\u001b[0mswu\u001b[0m\u001b[1;33m]\u001b[0m\u001b[1;33m,\u001b[0m\u001b[0maxis\u001b[0m\u001b[1;33m=\u001b[0m\u001b[1;36m1\u001b[0m\u001b[1;33m)\u001b[0m\u001b[1;33m\u001b[0m\u001b[1;33m\u001b[0m\u001b[0m\n\u001b[0m\u001b[0;32m      6\u001b[0m \u001b[0mplt\u001b[0m\u001b[1;33m.\u001b[0m\u001b[0mfigure\u001b[0m\u001b[1;33m(\u001b[0m\u001b[0mfigsize\u001b[0m\u001b[1;33m=\u001b[0m\u001b[1;33m(\u001b[0m\u001b[1;36m16\u001b[0m\u001b[1;33m,\u001b[0m\u001b[1;36m8\u001b[0m\u001b[1;33m)\u001b[0m\u001b[1;33m,\u001b[0m\u001b[0mdpi\u001b[0m\u001b[1;33m=\u001b[0m\u001b[1;36m500\u001b[0m\u001b[1;33m)\u001b[0m\u001b[1;33m\u001b[0m\u001b[1;33m\u001b[0m\u001b[0m\n\u001b[0;32m      7\u001b[0m \u001b[0mplt\u001b[0m\u001b[1;33m.\u001b[0m\u001b[0mtitle\u001b[0m\u001b[1;33m(\u001b[0m\u001b[1;34m'BACARDI F_dw from the flight on 02-02-2020'\u001b[0m\u001b[1;33m,\u001b[0m \u001b[0mfontsize\u001b[0m \u001b[1;33m=\u001b[0m\u001b[1;36m14\u001b[0m\u001b[1;33m)\u001b[0m\u001b[1;33m\u001b[0m\u001b[1;33m\u001b[0m\u001b[0m\n",
      "\u001b[1;31mNameError\u001b[0m: name 'pd' is not defined"
     ]
    }
   ],
   "source": [
    "# def smooth(y, box_pts):\n",
    "#     box = np.ones(box_pts)/box_pts\n",
    "#     y_smooth = np.convolve(y, box, mode='same')\n",
    "#     return y_smooth\n",
    "fg = pd.concat([df_final.Time,swd_correct.swd_corr,SWD.swu],axis=1)\n",
    "plt.figure(figsize=(16,8),dpi=500)\n",
    "plt.title('BACARDI F_dw from the flight on 02-02-2020', fontsize =14)\n",
    "plt.plot(fg.Time,fg.swu, 'b-', label = 'solar radiation up (raw)')\n",
    "plt.plot(fg.Time,fg.swd_corr, 'r-', label = 'solar radiation up (attitude_corrected)')\n",
    "#plt.plot(fg.Time, smooth(fg.swd_corr,500), 'b-')\n",
    "#plt.plot(df_time_delta.time,bacardi.ShortWave_DOWN, 'm', label = 'solar radiation down')\n",
    "#plt.plot(df_time_delta.time,bacardi.LongWave_UP, 'y', label = 'terrestrial radiation up')\n",
    "#plt.plot(df_time_delta.time,bacardi.LongWave_DOWN, 'c', label = 'terrestrial radiation down')\n",
    "plt.xticks(fontsize=14)\n",
    "plt.yticks(fontsize=14)\n",
    "plt.legend(fontsize=14)\n",
    "plt.xlabel('Time (UTC)',fontsize=14)\n",
    "plt.ylabel('Irradiance ($W/M^2$)',fontsize=14)\n",
    "#plt.ylim(40,1280)\n",
    "plt.show()\n",
    "#corrected_FDSC.to_csv('corrected_FDSC.csv')\n"
   ]
  },
  {
   "cell_type": "code",
   "execution_count": null,
   "metadata": {},
   "outputs": [],
   "source": [
    "def smooth(y, box_pts):\n",
    "    box = np.ones(box_pts)/box_pts\n",
    "    y_smooth = np.convolve(y, box, mode='same')\n",
    "    return y_smooth\n",
    "plt.figure(figsize=(15,6),dpi=500)\n",
    "#plt.plot(fg.Time,fg.swd_corr,'o')\n",
    "plt.plot(fg.Time, smooth(fg.swd_corr,3), 'r-', lw=2)\n",
    "plt.plot(fg.Time, smooth(fg.swd_corr,19), 'g-', lw=2)\n",
    "plt.show()"
   ]
  },
  {
   "cell_type": "code",
   "execution_count": null,
   "metadata": {},
   "outputs": [],
   "source": [
    "\n",
    "#pd.to_datetime('2016-06-10 18:57:35:317', format=\"%Y-%m-%d %H:%M:%S:%f\")\n",
    "# import datetime\n",
    "# start = datetime.datetime(2020, 1, 30, 11, 19, 34)\n",
    "# end = datetime.datetime(2020, 1, 30, 15, 8, 21)\n",
    "# delta = end - start\n",
    "# time_delta = []\n",
    "# for i in range(delta.seconds + 1):\n",
    "#     time_delta.append(start + datetime.timedelta(seconds=i))\n",
    "# df_time_delta = pd.DataFrame(time_delta)\n",
    "# df_time_delta.columns = ['time']\n",
    "# df_time_delta.shape"
   ]
  },
  {
   "cell_type": "code",
   "execution_count": null,
   "metadata": {},
   "outputs": [],
   "source": [
    "def convertSeconds(seconds):\n",
    "    h = seconds//(60*60)\n",
    "    m = (seconds-h*60*60)//60\n",
    "    s = seconds-(h*60*60)-(m*60)\n",
    "    return [h, m, s]\n",
    "convertSeconds(87032)"
   ]
  },
  {
   "cell_type": "code",
   "execution_count": null,
   "metadata": {},
   "outputs": [],
   "source": [
    "T/1000"
   ]
  },
  {
   "cell_type": "code",
   "execution_count": null,
   "metadata": {},
   "outputs": [],
   "source": [
    "FDSC"
   ]
  },
  {
   "cell_type": "code",
   "execution_count": null,
   "metadata": {},
   "outputs": [],
   "source": [
    "# SWu = fh.variables['FDSC'][:]\n",
    "# SWd = fh.variables['FUS'][:]\n",
    "# LWu = fh.variables['FDL'][:]\n",
    "# LWd = fh.variables['FUL'][:]\n",
    "# time = fh.variables['TIME'][:]\n",
    "# SWU = pd.DataFrame(SWu.T)\n",
    "# SWD = pd.DataFrame(SWd.T)\n",
    "# LWU = pd.DataFrame(LWu.T)\n",
    "# LWD = pd.DataFrame(LWd.T)\n",
    "# TIME = pd.DataFrame(time.T)/1000\n",
    "# df = pd.concat([TIME,SWU,SWD,LWU,LWD],axis =1)\n",
    "# df.columns = ['Time', 'ShortWave_UP', 'ShortWave_DOWN','LongWave_UP', 'LongWave_DOWN']\n",
    "# df.to_csv('time_22jan.csv')"
   ]
  },
  {
   "cell_type": "code",
   "execution_count": null,
   "metadata": {},
   "outputs": [],
   "source": [
    "# #array = np.linspace(53856,87031, num=33175)\n",
    "# array = np.arange(53856,87031, 1)\n",
    "# df_arr = pd.DataFrame(array, columns = ['time_arr'])\n",
    "# fdw_time = df_fdw.loc[:,['sod','F_dw']]\n",
    "# #fdw_time\n",
    "# for g in fdw_time.sod:\n",
    "#     for h in df_arr.time_arr:\n",
    "#         if  g == h:\n",
    "#             print (yes)\n",
    "#         else:\n",
    "#             print(no)"
   ]
  },
  {
   "cell_type": "code",
   "execution_count": null,
   "metadata": {},
   "outputs": [],
   "source": [
    "# df_arr['time_arr_bool'] = df_arr.isin(fdw_time)\n",
    "# # df_arr.set_index('Locality', inplace=True)\n",
    "# # df_arr\n"
   ]
  },
  {
   "cell_type": "code",
   "execution_count": null,
   "metadata": {},
   "outputs": [],
   "source": []
  },
  {
   "cell_type": "code",
   "execution_count": null,
   "metadata": {},
   "outputs": [],
   "source": [
    "math.sin(21.3*0.0175)"
   ]
  },
  {
   "cell_type": "code",
   "execution_count": null,
   "metadata": {},
   "outputs": [],
   "source": [
    "math.pi/180"
   ]
  },
  {
   "cell_type": "code",
   "execution_count": null,
   "metadata": {},
   "outputs": [],
   "source": [
    "(22/7)/180"
   ]
  },
  {
   "cell_type": "code",
   "execution_count": null,
   "metadata": {},
   "outputs": [],
   "source": [
    "*(math.pi/180)"
   ]
  }
 ],
 "metadata": {
  "kernelspec": {
   "display_name": "Python 3",
   "language": "python",
   "name": "python3"
  },
  "language_info": {
   "codemirror_mode": {
    "name": "ipython",
    "version": 3
   },
   "file_extension": ".py",
   "mimetype": "text/x-python",
   "name": "python",
   "nbconvert_exporter": "python",
   "pygments_lexer": "ipython3",
   "version": "3.7.4"
  }
 },
 "nbformat": 4,
 "nbformat_minor": 2
}

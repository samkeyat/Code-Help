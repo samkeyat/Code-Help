{
 "cells": [
  {
   "cell_type": "code",
   "execution_count": 1,
   "metadata": {
    "collapsed": true
   },
   "outputs": [],
   "source": [
    "def convert_to_datstring(dataframe_,columnName_='Date',format_= \"%d/%m/%Y\",ref_day_ ='01'):\n",
    "    for i,dat in enumerate(dataframe_.loc[:,columnName_]):\n",
    "        try: \n",
    "            dat = dat.strip()\n",
    "            dataframe_.loc[i,'NewDate']=datetime.strptime(dat,format_)\n",
    "            #print \"zes\"\n",
    "        except:\n",
    "             dat = dat.strip().split(r'/')\n",
    "             dat[0]=ref_day_\n",
    "             dat=\"/\".join(dat)\n",
    "             dataframe_.loc[i,'NewDate']=datetime.strptime(dat,format_)\n",
    "    return dataframe_"
   ]
  },
  {
   "cell_type": "code",
   "execution_count": 6,
   "metadata": {},
   "outputs": [
    {
     "ename": "ValueError",
     "evalue": "labels ['Unnamed: 0'] not contained in axis",
     "output_type": "error",
     "traceback": [
      "\u001b[1;31m---------------------------------------------------------------------------\u001b[0m",
      "\u001b[1;31mValueError\u001b[0m                                Traceback (most recent call last)",
      "\u001b[1;32m<ipython-input-6-f4befc49196d>\u001b[0m in \u001b[0;36m<module>\u001b[1;34m()\u001b[0m\n\u001b[0;32m     66\u001b[0m \u001b[0mcountry_delay_time\u001b[0m \u001b[1;33m=\u001b[0m \u001b[0mpd\u001b[0m\u001b[1;33m.\u001b[0m\u001b[0mread_csv\u001b[0m\u001b[1;33m(\u001b[0m\u001b[1;34m'data_calculated.csv'\u001b[0m\u001b[1;33m)\u001b[0m\u001b[1;33m\u001b[0m\u001b[0m\n\u001b[0;32m     67\u001b[0m \u001b[0mdfd\u001b[0m \u001b[1;33m=\u001b[0m \u001b[0mpd\u001b[0m\u001b[1;33m.\u001b[0m\u001b[0mconcat\u001b[0m\u001b[1;33m(\u001b[0m\u001b[1;33m[\u001b[0m\u001b[0mcon\u001b[0m\u001b[1;33m,\u001b[0m \u001b[0mcountry_delay_time\u001b[0m\u001b[1;33m]\u001b[0m\u001b[1;33m,\u001b[0m \u001b[0maxis\u001b[0m\u001b[1;33m=\u001b[0m\u001b[1;36m1\u001b[0m\u001b[1;33m)\u001b[0m\u001b[1;33m\u001b[0m\u001b[0m\n\u001b[1;32m---> 68\u001b[1;33m \u001b[0mdf\u001b[0m \u001b[1;33m=\u001b[0m \u001b[0mdf\u001b[0m\u001b[1;33m.\u001b[0m\u001b[0mdrop\u001b[0m\u001b[1;33m(\u001b[0m\u001b[1;33m[\u001b[0m\u001b[1;34m'Unnamed: 0'\u001b[0m\u001b[1;33m]\u001b[0m\u001b[1;33m,\u001b[0m \u001b[0maxis\u001b[0m\u001b[1;33m=\u001b[0m\u001b[1;36m1\u001b[0m\u001b[1;33m)\u001b[0m\u001b[1;33m\u001b[0m\u001b[0m\n\u001b[0m\u001b[0;32m     69\u001b[0m \u001b[0mdfd\u001b[0m\u001b[1;33m.\u001b[0m\u001b[0mto_csv\u001b[0m\u001b[1;33m(\u001b[0m\u001b[1;34m'data_calculated_new.csv'\u001b[0m\u001b[1;33m)\u001b[0m\u001b[1;33m\u001b[0m\u001b[0m\n\u001b[0;32m     70\u001b[0m \u001b[1;31m#appended_data.to_csv('appedned.csv')\u001b[0m\u001b[1;33m\u001b[0m\u001b[1;33m\u001b[0m\u001b[0m\n",
      "\u001b[1;32m/home/shohan/anaconda2/lib/python2.7/site-packages/pandas/core/generic.pyc\u001b[0m in \u001b[0;36mdrop\u001b[1;34m(self, labels, axis, level, inplace, errors)\u001b[0m\n\u001b[0;32m   1871\u001b[0m                 \u001b[0mnew_axis\u001b[0m \u001b[1;33m=\u001b[0m \u001b[0maxis\u001b[0m\u001b[1;33m.\u001b[0m\u001b[0mdrop\u001b[0m\u001b[1;33m(\u001b[0m\u001b[0mlabels\u001b[0m\u001b[1;33m,\u001b[0m \u001b[0mlevel\u001b[0m\u001b[1;33m=\u001b[0m\u001b[0mlevel\u001b[0m\u001b[1;33m,\u001b[0m \u001b[0merrors\u001b[0m\u001b[1;33m=\u001b[0m\u001b[0merrors\u001b[0m\u001b[1;33m)\u001b[0m\u001b[1;33m\u001b[0m\u001b[0m\n\u001b[0;32m   1872\u001b[0m             \u001b[1;32melse\u001b[0m\u001b[1;33m:\u001b[0m\u001b[1;33m\u001b[0m\u001b[0m\n\u001b[1;32m-> 1873\u001b[1;33m                 \u001b[0mnew_axis\u001b[0m \u001b[1;33m=\u001b[0m \u001b[0maxis\u001b[0m\u001b[1;33m.\u001b[0m\u001b[0mdrop\u001b[0m\u001b[1;33m(\u001b[0m\u001b[0mlabels\u001b[0m\u001b[1;33m,\u001b[0m \u001b[0merrors\u001b[0m\u001b[1;33m=\u001b[0m\u001b[0merrors\u001b[0m\u001b[1;33m)\u001b[0m\u001b[1;33m\u001b[0m\u001b[0m\n\u001b[0m\u001b[0;32m   1874\u001b[0m             \u001b[0mdropped\u001b[0m \u001b[1;33m=\u001b[0m \u001b[0mself\u001b[0m\u001b[1;33m.\u001b[0m\u001b[0mreindex\u001b[0m\u001b[1;33m(\u001b[0m\u001b[1;33m**\u001b[0m\u001b[1;33m{\u001b[0m\u001b[0maxis_name\u001b[0m\u001b[1;33m:\u001b[0m \u001b[0mnew_axis\u001b[0m\u001b[1;33m}\u001b[0m\u001b[1;33m)\u001b[0m\u001b[1;33m\u001b[0m\u001b[0m\n\u001b[0;32m   1875\u001b[0m             \u001b[1;32mtry\u001b[0m\u001b[1;33m:\u001b[0m\u001b[1;33m\u001b[0m\u001b[0m\n",
      "\u001b[1;32m/home/shohan/anaconda2/lib/python2.7/site-packages/pandas/indexes/base.pyc\u001b[0m in \u001b[0;36mdrop\u001b[1;34m(self, labels, errors)\u001b[0m\n\u001b[0;32m   2964\u001b[0m             \u001b[1;32mif\u001b[0m \u001b[0merrors\u001b[0m \u001b[1;33m!=\u001b[0m \u001b[1;34m'ignore'\u001b[0m\u001b[1;33m:\u001b[0m\u001b[1;33m\u001b[0m\u001b[0m\n\u001b[0;32m   2965\u001b[0m                 raise ValueError('labels %s not contained in axis' %\n\u001b[1;32m-> 2966\u001b[1;33m                                  labels[mask])\n\u001b[0m\u001b[0;32m   2967\u001b[0m             \u001b[0mindexer\u001b[0m \u001b[1;33m=\u001b[0m \u001b[0mindexer\u001b[0m\u001b[1;33m[\u001b[0m\u001b[1;33m~\u001b[0m\u001b[0mmask\u001b[0m\u001b[1;33m]\u001b[0m\u001b[1;33m\u001b[0m\u001b[0m\n\u001b[0;32m   2968\u001b[0m         \u001b[1;32mreturn\u001b[0m \u001b[0mself\u001b[0m\u001b[1;33m.\u001b[0m\u001b[0mdelete\u001b[0m\u001b[1;33m(\u001b[0m\u001b[0mindexer\u001b[0m\u001b[1;33m)\u001b[0m\u001b[1;33m\u001b[0m\u001b[0m\n",
      "\u001b[1;31mValueError\u001b[0m: labels ['Unnamed: 0'] not contained in axis"
     ]
    }
   ],
   "source": [
    "import pandas as pd\n",
    "from datetime import date, datetime, timedelta\n",
    "import numpy as np\n",
    "from collections import Counter\n",
    "from __future__ import division\n",
    "import matplotlib.pyplot as plt\n",
    "emdat_ep=pd.read_csv('emdat_csv_formated.csv')\n",
    "#con = (emdat_ep['Country'].tolist())\n",
    "country_all = pd.read_csv('country.csv')\n",
    "con = country_all.Country\n",
    "\n",
    "emdat_ep_flood = emdat_ep[emdat_ep.Type.isin(['Flood'])]\n",
    "emdat_ep_cholera = emdat_ep[emdat_ep.Name.isin(['Cholera'])]\n",
    "#con = country_all.Country\n",
    "#con=set(emdat_ep['Country'].tolist())\n",
    "#count=0\n",
    "appended_data =[]\n",
    "for k in con:\n",
    "    disease_country = emdat_ep_cholera[(emdat_ep_cholera.Country == k)]\n",
    "    disease_flood = emdat_ep_flood[(emdat_ep_flood.Country == k)]   \n",
    "#    count +=1\n",
    "    #    print disease_flood\n",
    "    week = timedelta(days = 15)\n",
    "    timespan=np.arange(0,28)\n",
    "    res_vec=np.zeros((timespan.shape[0],1))\n",
    "    if disease_country.shape[0] == 0 or disease_flood.shape[0] == 0:\n",
    "        for n in timespan:\n",
    "#            res_vec[n,0] = 0\n",
    "#            res_vec[n,0] = 0\n",
    "            res_vec[n,0] = 0\n",
    "    else:\n",
    "        disease_country=disease_country.reset_index(drop=True)\n",
    "        disease_country_dat = convert_to_datstring(dataframe_= disease_country)\n",
    "        disease_flood=disease_flood.reset_index(drop=True)\n",
    "        disease_flood_dat = convert_to_datstring(dataframe_= disease_flood)\n",
    "        ################################################\n",
    "        #print disease_country_dat\n",
    "        df = pd.concat([disease_flood_dat, disease_country_dat], axis=1)\n",
    "        df = df.drop(['Date','Type','Sub Type','Year','Name','Unnamed: 0','Unnamed: 0','Tot. Affected'], axis=1)\n",
    "        df.columns = ['country_flood','flood_date','country_cholera','cholera_date']\n",
    "        for n in timespan:\n",
    "            borders= pd.concat([df.cholera_date - (n+1)*week, df.cholera_date - n*week], axis=1)\n",
    "            borders.columns=['left_border','right_border']\n",
    "    #        print borders\n",
    "            counts = 0  \n",
    "            total_occ_cholera=0\n",
    "            for i, dis in enumerate(df.cholera_date):\n",
    "                #cholera_date is sorted such that null values are at the end\n",
    "                if pd.isnull(dis):\n",
    "                    break\n",
    "                else:\n",
    "                    total_occ_cholera +=1\n",
    "                for flood in df.flood_date:\n",
    "                    left_b, right_b = borders.left_border[i],borders.right_border[i]\n",
    "                    if flood < right_b and flood >= left_b:\n",
    "                        counts += 1\n",
    "                        break\n",
    "#            res_vec[n,0] = counts\n",
    "#            res_vec[n,0] = total_occ_cholera\n",
    "            res_vec[n,0] = counts/total_occ_cholera\n",
    "        data = pd.DataFrame(res_vec)\n",
    "        appended_data.append(data)\n",
    "appended_data = pd.concat(appended_data, axis=1)\n",
    "appended_data = appended_data.T\n",
    "appended_data.to_csv('data_calculated.csv')\n",
    "country_delay_time = pd.read_csv('data_calculated.csv')\n",
    "dfd = pd.concat([con, country_delay_time], axis=1)\n",
    "#df = df.drop(['Unnamed: 0'], axis=1)\n",
    "dfd.to_csv('data_calculated_new.csv')\n",
    "#appended_data.to_csv('appedned.csv')"
   ]
  },
  {
   "cell_type": "code",
   "execution_count": 3,
   "metadata": {},
   "outputs": [],
   "source": [
    "# country_delay_time = pd.read_csv('data_calculated.csv')\n",
    "# dfd = pd.concat([country_all.Country, country_delay_time], axis=1)\n",
    "# dfd\n",
    "# country_delay_time\n",
    "# # df_del_cholera = country_delay_time.drop(['Unnamed: 0','Unnamed: 1','Unnamed: 2','Unnamed: 4','Unnamed: 5','Unnamed: 7','Unnamed: 8','Unnamed: 10','Unnamed: 11','Unnamed: 13','Unnamed: 14','Unnamed: 16','Unnamed: 17','Unnamed: 19','Unnamed: 20','Unnamed: 22','Unnamed: 23','Unnamed: 25','Unnamed: 26','Unnamed: 28','Unnamed: 29','Unnamed: 31','Unnamed: 32','Unnamed: 34','Unnamed: 35','Unnamed: 37','Unnamed: 38','Unnamed: 40','Unnamed: 41','Unnamed: 43','Unnamed: 44','Unnamed: 46','Unnamed: 47','Unnamed: 49','Unnamed: 50','Unnamed: 52','Unnamed: 53','Unnamed: 55','Unnamed: 56','Unnamed: 58','Unnamed: 59','Unnamed: 61','Unnamed: 62','Unnamed: 64','Unnamed: 65','Unnamed: 67','Unnamed: 68','Unnamed: 70','Unnamed: 71','Unnamed: 73','Unnamed: 74','Unnamed: 76','Unnamed: 77','Unnamed: 79','Unnamed: 80','Unnamed: 82','Unnamed: 83','Unnamed: 85','Unnamed: 86','Unnamed: 88','Unnamed: 89'], axis=1)\n",
    "# df_del_f = country_delay_time.drop(['Unnamed: 0','Unnamed: 1','Unnamed: 2','Unnamed: 4','Unnamed: 5','Unnamed: 7','Unnamed: 8','Unnamed: 10','Unnamed: 11','Unnamed: 13','Unnamed: 14','Unnamed: 16','Unnamed: 17','Unnamed: 19','Unnamed: 20','Unnamed: 22','Unnamed: 23','Unnamed: 25','Unnamed: 26','Unnamed: 28','Unnamed: 29','Unnamed: 31','Unnamed: 32','Unnamed: 34','Unnamed: 35','Unnamed: 37','Unnamed: 38','Unnamed: 40','Unnamed: 41','Unnamed: 43','Unnamed: 44','Unnamed: 46','Unnamed: 47','Unnamed: 49','Unnamed: 50','Unnamed: 52','Unnamed: 53','Unnamed: 55','Unnamed: 56','Unnamed: 58','Unnamed: 59','Unnamed: 61','Unnamed: 62','Unnamed: 64','Unnamed: 65','Unnamed: 67','Unnamed: 68','Unnamed: 70','Unnamed: 71','Unnamed: 73','Unnamed: 74','Unnamed: 76','Unnamed: 77','Unnamed: 79','Unnamed: 80','Unnamed: 82','Unnamed: 83','Unnamed: 85','Unnamed: 86','Unnamed: 88','Unnamed: 89'], axis=1)\n",
    "\n",
    "# # df_del=df_del.T\n",
    "# # df_del.to_csv('data_calculated.csv')"
   ]
  },
  {
   "cell_type": "code",
   "execution_count": null,
   "metadata": {},
   "outputs": [],
   "source": []
  },
  {
   "cell_type": "code",
   "execution_count": null,
   "metadata": {
    "collapsed": true
   },
   "outputs": [],
   "source": []
  }
 ],
 "metadata": {
  "kernelspec": {
   "display_name": "Python 3",
   "language": "python",
   "name": "python3"
  },
  "language_info": {
   "codemirror_mode": {
    "name": "ipython",
    "version": 3
   },
   "file_extension": ".py",
   "mimetype": "text/x-python",
   "name": "python",
   "nbconvert_exporter": "python",
   "pygments_lexer": "ipython3",
   "version": "3.7.4"
  }
 },
 "nbformat": 4,
 "nbformat_minor": 1
}

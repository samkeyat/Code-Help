{
 "cells": [
  {
   "cell_type": "code",
   "execution_count": null,
   "metadata": {},
   "outputs": [],
   "source": [
    "import pandas as pd\n",
    "import numpy as np\n",
    "df = pd.read_csv('start_30_13-12-35-747_filter_BP11660.csv', header = None,names = ['time','temperature'])\n",
    "import datetime\n",
    "start = datetime.datetime(2020, 1, 30, 13, 12, 35)\n",
    "end = datetime.datetime(2020, 1, 30, 13, 17, 33)\n",
    "delta = end - start\n",
    "#print(delta)\n",
    "time_delta = []\n",
    "for i in range(delta.seconds + 1):\n",
    "    time_delta.append(start + datetime.timedelta(seconds=i))\n",
    "df_time_delta = pd.DataFrame(time_delta)\n",
    "df_time_delta.columns = ['time']\n",
    "d_time = df_time_delta.iloc[np.repeat(np.arange(len(df_time_delta)), 100)]\n",
    "d_time.reset_index(inplace=True,drop=True)\n",
    "d_time['new_time'] = [d.time() for d in d_time['time']]\n",
    "\n",
    "b = df['time'].astype(str).str.split('.')\n",
    "millisec = []\n",
    "for i,j in b:\n",
    "    millisec.append(j)\n",
    "milsec = pd.DataFrame(millisec)\n",
    "milsec.columns=['Time']\n",
    "milsec.reset_index(drop=True)\n",
    "milsec['Time'] = milsec.Time.astype(str).str[:2].astype(int)\n",
    "df_add = pd.concat([df.loc[:,'temperature'],d_time,milsec],axis=1)\n",
    "df_add['adding'] = df_add['new_time'].astype(str) + '.' + df_add['Time'].astype(str)\n",
    "# df_add['datetime'] = df_add.new_time.astype(str).str.cat(df_add[['Time']].astype(str))\n",
    "df_add.drop(df_add.tail(2).index,inplace=True) \n",
    "df_add.drop(['time', 'Time','new_time'], axis=1, inplace=True)\n",
    "import numpy as np\n",
    "df2 = pd.DataFrame(np.array([['BP11660'], ['LP11500'], ['no_filter'],['BP08645'],['BP10740'],['no_filter']]),columns=['Filters'])\n",
    "df3=pd.concat([df2]*4983, ignore_index=True)\n",
    "import matplotlib.pyplot as plt\n",
    "import pandas as pd\n",
    "#df_original = pd.concat([df,df3,df_time_delta],axis=1)\n",
    "df_new = pd.concat([df_add,df3],axis=1)\n",
    "df_new['temperature']=df_new.loc[:,'temperature']+273\n",
    "to_drop = ['no_filter']\n",
    "foo = df_new[~df_new['Filters'].isin(to_drop)]\n",
    "foo\n",
    "# plt.figure(figsize=(15,6),dpi=500)\n",
    "# foo.set_index('adding', inplace=True)\n",
    "# foo.groupby('Filters')['temperature'].plot(legend=True)\n",
    "# plt.title ('Comparison of different Velox filters from EUREC4A campaign on 30.01.2020')\n",
    "# plt.xticks(fontsize=14)\n",
    "# plt.yticks(fontsize=14)\n",
    "# plt.legend(fontsize=14)\n",
    "# plt.xlabel('UTC (HH:MM:SSss)',fontsize=14)\n",
    "# plt.ylabel('Brightness Temperature (K)',fontsize=14)\n",
    "# plt.show()"
   ]
  },
  {
   "cell_type": "code",
   "execution_count": null,
   "metadata": {},
   "outputs": [],
   "source": [
    "\n",
    "# import numpy as np\n",
    "# df2 = pd.DataFrame(np.array([['BP11660'], ['LP11500'], ['no_filter'],['BP08645'],['BP10740'],['no_filter']]),columns=['Filters'])\n",
    "# df3=pd.concat([df2]*4983, ignore_index=True)\n",
    "# import matplotlib.pyplot as plt\n",
    "# import pandas as pd\n",
    "# #df_original = pd.concat([df,df3,df_time_delta],axis=1)\n",
    "# df_new = pd.concat([df_add,df3],axis=1)\n",
    "# df_new['temperature']=df_new.loc[:,'temperature']+273\n",
    "# to_drop = ['no_filter']# plt.figure(figsize=(15,6),dpi=500)\n",
    "# foo.set_index('datetime', inplace=True)\n",
    "# foo.groupby('Filters')['temperature'].plot(legend=True)\n",
    "# plt.title ('Comparison of different Velox filters from EUREC4A campaign on 30.01.2020')\n",
    "# plt.xticks(fontsize=14)\n",
    "# plt.yticks(fontsize=14)\n",
    "# plt.legend(fontsize=14)\n",
    "# plt.xlabel('UTC (HH:MM:SSss)',fontsize=14)\n",
    "# plt.ylabel('Brightness Temperature (K)',fontsize=14)\n",
    "# plt.show()\n",
    "# foo = df_new[~df_new['Filters'].isin(to_drop)]\n"
   ]
  },
  {
   "cell_type": "code",
   "execution_count": null,
   "metadata": {},
   "outputs": [],
   "source": [
    "df = df.astype(str)\n",
    "for c in df:\n",
    "    df[c] = (df[c].str[:2] + '.' + df[c].str[2:]).astype(float)\n",
    "print(df)"
   ]
  },
  {
   "cell_type": "code",
   "execution_count": null,
   "metadata": {},
   "outputs": [],
   "source": [
    "#KT19_20200130_13.dat\n",
    "from datetime import datetime\n",
    "import matplotlib.pyplot as plt\n",
    "kt19 = pd.read_csv('KT19_20200130_13.dat', delim_whitespace=True, header=None)\n",
    "kt19.columns = ['date','hours','minutes','seconds','temperature','calibration_factor_1','calibration_factor_2','instrument_temp']\n",
    "hour = [] \n",
    "for i in kt19.hours:\n",
    "    hour.append('{:02}'.format(i))\n",
    "hour = pd.DataFrame(hour)\n",
    "KT19_22_jan= pd.concat([hour,kt19], axis = 1)\n",
    "Min = [] \n",
    "for j in KT19_22_jan.minutes:\n",
    "    Min.append('{:02}'.format(j))\n",
    "Min = pd.DataFrame(Min)\n",
    "KT19_22_jan= pd.concat([Min,KT19_22_jan], axis = 1)\n",
    "KT19_22_jan.columns = ['Min','hour','date','hours','minutes','seconds','temperature','calibration_factor_1','calibration_factor_2','instrument_temp']\n",
    "KT19_22_jan['time'] = KT19_22_jan.date.astype(str).str.cat(KT19_22_jan[['hour','Min','seconds']].astype(str))\n",
    "KT19_22_jan[\"time\"]= KT19_22_jan[\"time\"].astype(str) \n",
    "# KT19_22_jn.to_csv('please.csv')\n",
    "my_date = []\n",
    "for m in KT19_22_jan.time:\n",
    "    date = datetime.strptime(m, \"%Y%m%d%H%M%S.%f\")\n",
    "    my_date.append(date)\n",
    "my_date = pd.DataFrame(my_date)\n",
    "KT19_22 = pd.concat([my_date,KT19_22_jan.temperature,KT19_22_jan.time,KT19_22_jan.instrument_temp], axis = 1)\n",
    "KT19_22.columns = ['datetime', 'temperature','time','instrument_temp']\n",
    "KT19_22['newtime'] = [d.time() for d in KT19_22['datetime']]\n",
    "#KT19_22['Time'] = KT19_22['datetime'].astype('datetime64[ms]')\n",
    "KT19_22['Time'] = KT19_22['datetime'].apply(lambda x: x.replace(microsecond=0))\n",
    "# KT19 = pd.concat([KT19_22,Sec],axis=1)\n",
    "# KT19.columns = ['datetime', 'temperature','time','instrument_temp','newtime','Time','milisec']\n",
    "# KT19\n",
    "s = KT19_22.iloc[3128:4341,[0,1,2,3]].reset_index(drop=True)\n",
    "s['new_time'] = [d.time() for d in s['datetime']]\n",
    "# s.drop(['time'], axis=1, inplace=True)\n",
    "#s['newtime'] = s.new_time.astype(str).str[:2].astype(int)\n",
    "plt.figure(figsize=(15,6),dpi=500)\n",
    "plt.plot(s.new_time,s.temperature)\n",
    "plt.title ('KT19 from EUREC4A campaign on 30.01.2020')\n",
    "plt.xticks(fontsize=14)\n",
    "plt.yticks(fontsize=14)\n",
    "plt.xlabel('Time (UTC)',fontsize=14)\n",
    "plt.ylabel('Brightness Temperature (K)',fontsize=14)\n",
    "plt.show()\n"
   ]
  },
  {
   "cell_type": "code",
   "execution_count": null,
   "metadata": {},
   "outputs": [],
   "source": [
    "s"
   ]
  },
  {
   "cell_type": "code",
   "execution_count": null,
   "metadata": {},
   "outputs": [],
   "source": []
  },
  {
   "cell_type": "code",
   "execution_count": null,
   "metadata": {},
   "outputs": [],
   "source": [
    "BP11660 = foo[foo.Filters=='BP11660']\n",
    "LP11500 = foo[foo.Filters=='LP11500']\n",
    "BP08645 = foo[foo.Filters=='BP08645']\n",
    "BP10740 = foo[foo.Filters=='BP10740']"
   ]
  },
  {
   "cell_type": "code",
   "execution_count": null,
   "metadata": {},
   "outputs": [],
   "source": [
    "BP10740"
   ]
  },
  {
   "cell_type": "code",
   "execution_count": null,
   "metadata": {},
   "outputs": [],
   "source": [
    "plt.subplots(figsize=(14,6),dpi=500)\n",
    "plt.plot(BP11660.adding,BP11660.temperature, 'r', label = 'BP11660')\n",
    "plt.plot(LP11500.adding,LP11500.temperature, 'g', label = 'LP11500')\n",
    "plt.plot(BP08645.adding,BP08645.temperature, 'b', label = 'BP08645')\n",
    "plt.plot(BP10740.adding,BP10740.temperature, 'm', label = 'BP10740')\n",
    "plt.plot(s.new_time,s.temperature, 'purple', label= 'KT-19')\n",
    "#pl.set_xlabel('Time [UTC]',fontsize = 15)\n",
    "# ax1.set_ylabel('Brightness Temperature (K) (velox)', color='r',fontsize = 15)\n",
    "# ax2.set_ylabel('Brightness Temperature (K) (KT-19)', color='b',fontsize = 15)\n",
    "# ax1.legend(fontsize=11, loc = 'upper left')\n",
    "# ax2.legend(fontsize=11, loc = 'upper right')\n",
    "# plt.title('Comparison of the time series of Velox filters and KT-19 brightness temperature EUREC4A campaign on 30.01.2020', fontsize=15)\n",
    "# ax1.set_ylim(260,340)\n",
    "# ax2.set_ylim(0,12000)\n",
    "plt.show()"
   ]
  },
  {
   "cell_type": "code",
   "execution_count": null,
   "metadata": {},
   "outputs": [],
   "source": []
  },
  {
   "cell_type": "code",
   "execution_count": null,
   "metadata": {},
   "outputs": [],
   "source": []
  }
 ],
 "metadata": {
  "kernelspec": {
   "display_name": "Python 3",
   "language": "python",
   "name": "python3"
  },
  "language_info": {
   "codemirror_mode": {
    "name": "ipython",
    "version": 3
   },
   "file_extension": ".py",
   "mimetype": "text/x-python",
   "name": "python",
   "nbconvert_exporter": "python",
   "pygments_lexer": "ipython3",
   "version": "3.7.4"
  }
 },
 "nbformat": 4,
 "nbformat_minor": 2
}

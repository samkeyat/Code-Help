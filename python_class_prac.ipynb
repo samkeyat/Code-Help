{
 "cells": [
  {
   "cell_type": "code",
   "execution_count": 1,
   "metadata": {},
   "outputs": [
    {
     "name": "stdout",
     "output_type": "stream",
     "text": [
      "name = Samkeyat Shohan , age = 31 , country = Bangladesh , job experience = 4 years\n"
     ]
    }
   ],
   "source": [
    "import datetime\n",
    "class User:\n",
    "    \"\"\"A member of FrindFace. For now we are only storing \n",
    "    their name and birthday. But soon we will store \n",
    "    an uncomfortable amount of information.\"\"\"\n",
    "    \n",
    "    def __init__(self, full_name, birthday, nationality):\n",
    "        self.name = full_name\n",
    "        self.birthday = birthday # yyyymmdd\n",
    "        #Extract first and last names\n",
    "        name_pieces = full_name.split(\" \")\n",
    "        self.first_name = name_pieces[0]\n",
    "        self.last_name = name_pieces[-1]\n",
    "        self.nationality = nationality\n",
    "        \n",
    "    def age(self):\n",
    "        \"\"\"Return the age of the user in years.\"\"\"\n",
    "        today = datetime.date(2019, 11, 5)\n",
    "        yyyy = int(self.birthday[0:4])\n",
    "        mm = int(self.birthday[4:6])\n",
    "        dd = int(self.birthday[6:8])\n",
    "        dob = datetime.date(yyyy, mm, dd) # date of birth\n",
    "        age_in_days = (today - dob).days\n",
    "        age_in_years = age_in_days / 365\n",
    "        return int(age_in_years)\n",
    "    def job_experience(self):\n",
    "        \"\"\"Return job experience for the user in years\"\"\"\n",
    "        completed_bachelor = datetime.date(2012, 9, 23)\n",
    "        work_stc = completed_bachelor - datetime.date(2013, 3, 31) # save the children\n",
    "        work_nestle = datetime.date(2013, 4, 1) - datetime.date(2013, 9, 30) # nestle bangladesh\n",
    "        work_iup_bremen = datetime.date(2014, 11, 1) - datetime.date(2015, 10, 20) # Institute of environmental physics\n",
    "        work_pik_potsdam = datetime.date(2016, 5, 1) - datetime.date(2016, 7, 31) # PIK potsdam\n",
    "        work_lmu_mim = datetime.date(2017, 7, 1) - datetime.date(2017, 9, 30) # MIM LMU munich\n",
    "        work_dlr_ipa = datetime.date(2017, 10, 1) - datetime.date(2018, 3, 31) # DLR-IPA oberpaffenhofen\n",
    "        work_oldenburg = datetime.date(2018, 8, 1) - datetime.date(2019, 8, 30) # Energy meteorology group Uni-Oldenburg\n",
    "        total_exp_days = (work_stc + work_nestle + work_iup_bremen + work_pik_potsdam \n",
    "        + work_lmu_mim + work_dlr_ipa + work_oldenburg).days\n",
    "        total_exp_years = total_exp_days / 365\n",
    "        return int(total_exp_years*-1)\n",
    "        \n",
    "user = User(\"Samkeyat Shohan\", \"19880620\", \"Bangladesh\")\n",
    "print('name =',user.name,', age =',user.age(),', country =', user.nationality,', job experience =',user.job_experience(),'years')"
   ]
  },
  {
   "cell_type": "code",
   "execution_count": null,
   "metadata": {},
   "outputs": [],
   "source": []
  },
  {
   "cell_type": "code",
   "execution_count": 3,
   "metadata": {},
   "outputs": [],
   "source": [
    "import os\n",
    "dirName = 'temp'\n",
    "os.mkdir(dirName)"
   ]
  },
  {
   "cell_type": "code",
   "execution_count": null,
   "metadata": {},
   "outputs": [],
   "source": []
  }
 ],
 "metadata": {
  "kernelspec": {
   "display_name": "Python 3",
   "language": "python",
   "name": "python3"
  },
  "language_info": {
   "codemirror_mode": {
    "name": "ipython",
    "version": 3
   },
   "file_extension": ".py",
   "mimetype": "text/x-python",
   "name": "python",
   "nbconvert_exporter": "python",
   "pygments_lexer": "ipython3",
   "version": "3.7.4"
  }
 },
 "nbformat": 4,
 "nbformat_minor": 2
}
